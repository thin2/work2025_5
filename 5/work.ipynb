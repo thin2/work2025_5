{
 "cells": [
  {
   "metadata": {
    "ExecuteTime": {
     "end_time": "2025-02-21T08:35:47.746943Z",
     "start_time": "2025-02-21T08:35:47.741511Z"
    }
   },
   "cell_type": "code",
   "source": "",
   "id": "5cca5e1fbef46369",
   "execution_count": 2,
   "outputs": []
  },
  {
   "cell_type": "code",
   "id": "initial_id",
   "metadata": {
    "collapsed": true,
    "ExecuteTime": {
     "end_time": "2025-02-21T08:35:49.998598Z",
     "start_time": "2025-02-21T08:35:47.750954Z"
    }
   },
   "source": [
    "import pandas as pd\n",
    "import numpy as np\n",
    "df=pd.read_csv('dataframe_train.csv')\n",
    "df.head()"
   ],
   "execution_count": 3,
   "outputs": []
  },
  {
   "metadata": {
    "ExecuteTime": {
     "end_time": "2025-02-21T08:35:50.122791Z",
     "start_time": "2025-02-21T08:35:50.000611Z"
    }
   },
   "cell_type": "code",
   "source": "df.info()",
   "id": "e7c37912b39d7e7d",
   "execution_count": 4,
   "outputs": []
  },
  {
   "metadata": {
    "ExecuteTime": {
     "end_time": "2025-02-21T09:09:22.404171Z",
     "start_time": "2025-02-21T09:09:22.391831Z"
    }
   },
   "cell_type": "code",
   "source": "print(df.columns)",
   "id": "59501166237a475a",
   "execution_count": 5,
   "outputs": []
  },
  {
   "metadata": {
    "ExecuteTime": {
     "end_time": "2025-02-21T10:11:16.827316Z",
     "start_time": "2025-02-21T10:11:16.783277Z"
    }
   },
   "cell_type": "code",
   "source": "print(len(df['source_type'].unique()))",
   "id": "fc4a11d140cfe329",
   "execution_count": 32,
   "outputs": []
  },
  {
   "metadata": {
    "ExecuteTime": {
     "end_time": "2025-02-21T09:13:59.320337Z",
     "start_time": "2025-02-21T09:13:58.876521Z"
    }
   },
   "cell_type": "code",
   "source": "df.describe()",
   "id": "b97bd69631712a8a",
   "execution_count": 8,
   "outputs": []
  },
  {
   "metadata": {
    "ExecuteTime": {
     "end_time": "2025-02-21T09:37:38.796803Z",
     "start_time": "2025-02-21T09:37:38.753805Z"
    }
   },
   "cell_type": "code",
   "source": "print(df['weather_grade'].unique())",
   "id": "a4b58aa190eeab8e",
   "execution_count": 13,
   "outputs": []
  },
  {
   "metadata": {
    "ExecuteTime": {
     "end_time": "2025-02-21T15:59:39.448478Z",
     "start_time": "2025-02-21T15:59:36.407458Z"
    }
   },
   "cell_type": "code",
   "source": [
    "import pandas as pd\n",
    "from sklearn.preprocessing import LabelEncoder, OneHotEncoder\n",
    "from sklearn.model_selection import train_test_split\n",
    "\n",
    "# 加载训练数据\n",
    "df_train = pd.read_csv(\"dataframe_train.csv\")\n",
    "\n",
    "# 选择初始特征\n",
    "selected_features = ['courier_id', 'wave_index', 'courier_wave_start_lng',\n",
    "       'courier_wave_start_lat', 'date', 'group', 'level',\n",
    "       'speed', 'max_load', 'weather_grade', 'aoi_id', 'shop_id',\n",
    "       'source_type', 'source_tracking_id', 'source_lng', 'source_lat',\n",
    "       'target_lng', 'target_lat', 'grid_distance', \n",
    "       'urgency']\n",
    "\n",
    "# 提取特征和目标变量\n",
    "X = df_train[selected_features]\n",
    "y = df_train['action_type']  # 目标变量（DELIVERY/PICKUP）"
   ],
   "id": "f29dcaae3ee9edf2",
   "execution_count": 122,
   "outputs": []
  },
  {
   "metadata": {
    "ExecuteTime": {
     "end_time": "2025-02-21T16:00:06.475117Z",
     "start_time": "2025-02-21T16:00:06.422679Z"
    }
   },
   "cell_type": "code",
   "source": [
    "mapping = {\n",
    "        'DELIVERY': 1,\n",
    "        'PICKUP': 0,\n",
    "        'ASSIGN':2\n",
    "}\n",
    "y = df_train['action_type'].map(mapping)"
   ],
   "id": "41591b031e06c386",
   "execution_count": 123,
   "outputs": []
  },
  {
   "metadata": {
    "ExecuteTime": {
     "end_time": "2025-02-21T16:00:09.859055Z",
     "start_time": "2025-02-21T16:00:08.565484Z"
    }
   },
   "cell_type": "code",
   "source": [
    "    \n",
    "def pre(X):\n",
    "    X['date'] = pd.to_datetime(X['date'], format='%Y%m%d')\n",
    "    \n",
    "    # 提取日期特征\n",
    "    X['day_of_week'] = X['date'].dt.dayofweek  # 星期几（0=周一，6=周日）\n",
    "    X['is_weekend'] = X['day_of_week'].apply(lambda x: 1 if x >= 5 else 0)  # 是否周末\n",
    "    \n",
    "    # 删除原始日期列\n",
    "    X = X.drop(columns=['date'])\n",
    "    # 计算每个 aoi_id 的出现频率\n",
    "    aoi_freq = X['aoi_id'].value_counts(normalize=True).to_dict()\n",
    "    X['aoi_freq'] = X['aoi_id'].map(aoi_freq)\n",
    "    \n",
    "    # 计算每个 shop_id 的出现频率\n",
    "    shop_freq = X['shop_id'].value_counts(normalize=True).to_dict()\n",
    "    X['shop_freq'] = X['shop_id'].map(shop_freq)\n",
    "    \n",
    "    # 删除原始高基数列\n",
    "    X = X.drop(columns=['aoi_id', 'shop_id'])\n",
    "    X = X.drop(columns=['courier_id'])\n",
    "    \n",
    "    # 定义天气等级的顺序（根据业务逻辑调整）\n",
    "    weather_order = ['Normal Weather' ,'Slightly Bad Weather','Bad Weather' ,'Very Bad Weather']\n",
    "    X['weather_grade'] = X['weather_grade'].map({k: v for v, k in enumerate(weather_order)})\n",
    "    \n",
    "    mapping = {\n",
    "        'DELIVERY': 1,\n",
    "        'PICKUP': 0,\n",
    "        'ASSIGN':2\n",
    "    }\n",
    "    \n",
    "    X['source_type']=X['source_type'].map(mapping)\n",
    "    return X\n",
    "X=pre(X)"
   ],
   "id": "471a752ec9f58396",
   "execution_count": 124,
   "outputs": []
  },
  {
   "metadata": {
    "ExecuteTime": {
     "end_time": "2025-02-21T15:16:33.868605Z",
     "start_time": "2025-02-21T15:16:33.771608Z"
    }
   },
   "cell_type": "code",
   "source": [
    "# 合并特征和目标变量后下采样\n",
    "df_sampled = pd.concat([X, y], axis=1).sample(n=40000, random_state=42)\n",
    "\n",
    "# 重新分离特征和目标\n",
    "X_sampled = df_sampled.drop(columns=['action_type'])\n",
    "y_sampled = df_sampled['action_type']"
   ],
   "id": "91366e18c3efc2b2",
   "execution_count": 107,
   "outputs": []
  },
  {
   "metadata": {
    "ExecuteTime": {
     "end_time": "2025-02-21T15:16:35.716628Z",
     "start_time": "2025-02-21T15:16:35.707437Z"
    }
   },
   "cell_type": "code",
   "source": "print(y_sampled)",
   "id": "e06aa17bc3422f0f",
   "execution_count": 108,
   "outputs": []
  },
  {
   "metadata": {
    "ExecuteTime": {
     "end_time": "2025-02-21T15:14:13.272516Z",
     "start_time": "2025-02-21T15:14:13.265143Z"
    }
   },
   "cell_type": "code",
   "source": [
    "mapping = {\n",
    "    'DELIVERY': 1,\n",
    "    'PICKUP': 0\n",
    "}\n",
    "y_sampled = y_sampled.map(mapping)"
   ],
   "id": "6befd02ba9b3d252",
   "execution_count": 100,
   "outputs": []
  },
  {
   "metadata": {},
   "cell_type": "code",
   "source": [
    "x=X_sampled[['wave_index', 'courier_wave_start_lng', 'courier_wave_start_lat',\n",
    "        'level', 'speed', 'max_load', 'weather_grade', 'source_type',\n",
    "        'source_lng', 'source_lat', 'target_lng',\n",
    "       'target_lat', 'grid_distance',  'urgency',\n",
    "       'day_of_week', ]]"
   ],
   "id": "7b371617002bfadf",
   "execution_count": null,
   "outputs": []
  },
  {
   "metadata": {
    "ExecuteTime": {
     "end_time": "2025-02-21T15:12:38.464014Z",
     "start_time": "2025-02-21T15:12:32.876482Z"
    }
   },
   "cell_type": "code",
   "source": [
    "from sklearn.linear_model import LogisticRegression\n",
    "from sklearn.preprocessing import StandardScaler\n",
    "from sklearn.model_selection import cross_val_score\n",
    "\n",
    "# 标准化数值特征\n",
    "scaler = StandardScaler()\n",
    "X_scaled = scaler.fit_transform(X)\n",
    "\n",
    "# 训练逻辑回归模型\n",
    "model = LogisticRegression(max_iter=1000)\n",
    "f1_scores = cross_val_score(model, X_scaled, y, cv=5, scoring='f1')\n",
    "\n",
    "print(\"基准模型 F1 分数均值:\", f1_scores.mean())\n",
    "print(\"各折 F1 分数:\", f1_scores)"
   ],
   "id": "cf71cb376e4467f6",
   "execution_count": 94,
   "outputs": []
  },
  {
   "metadata": {
    "ExecuteTime": {
     "end_time": "2025-02-21T15:07:30.539746Z",
     "start_time": "2025-02-21T15:05:52.992103Z"
    }
   },
   "cell_type": "code",
   "source": [
    "import numpy as np\n",
    "import pandas as pd\n",
    "from sklearn.ensemble import RandomForestClassifier\n",
    "from sklearn.preprocessing import StandardScaler\n",
    "from sklearn.model_selection import cross_val_score, StratifiedKFold\n",
    "from sklearn.metrics import classification_report, confusion_matrix, roc_auc_score\n",
    "import matplotlib.pyplot as plt\n",
    "\n",
    "# 假设 x 是特征数据，y_sampled 是目标变量\n",
    "# 标准化数值特征\n",
    "scaler = StandardScaler()\n",
    "X_scaled = scaler.fit_transform(X_sampled)\n",
    "\n",
    "# 初始化随机森林分类器\n",
    "rf_model = RandomForestClassifier(n_estimators=100, max_depth=None, random_state=42)\n",
    "\n",
    "# 使用交叉验证评估模型性能\n",
    "cv = StratifiedKFold(n_splits=5, shuffle=True, random_state=42)\n",
    "f1_scores = cross_val_score(rf_model, X_scaled, y_sampled, cv=cv, scoring='f1')\n",
    "\n",
    "print(\"随机森林模型 F1 分数均值:\", f1_scores.mean())\n",
    "print(\"各折 F1 分数:\", f1_scores)\n",
    "\n",
    "# 再次训练模型以获取特征重要性\n",
    "rf_model.fit(X_scaled, y_sampled)\n",
    "\n"
   ],
   "id": "30c6b7e2ea80217e",
   "execution_count": 86,
   "outputs": []
  },
  {
   "metadata": {
    "ExecuteTime": {
     "end_time": "2025-02-21T15:18:47.615193Z",
     "start_time": "2025-02-21T15:17:27.489177Z"
    }
   },
   "cell_type": "code",
   "source": [
    "import numpy as np\n",
    "import pandas as pd\n",
    "from sklearn.ensemble import RandomForestClassifier\n",
    "from sklearn.preprocessing import StandardScaler\n",
    "from sklearn.model_selection import train_test_split, cross_val_score, StratifiedKFold\n",
    "from sklearn.metrics import classification_report, confusion_matrix, roc_auc_score, f1_score\n",
    "import matplotlib.pyplot as plt\n",
    "\n",
    "# 假设 x 是特征数据（DataFrame），y_sampled 是目标变量\n",
    "# 标准化数值特征\n",
    "scaler = StandardScaler()\n",
    "X_scaled = scaler.fit_transform(X_sampled)\n",
    "\n",
    "# 划分训练集和测试集（80% 训练集，20% 测试集）\n",
    "X_train, X_test, y_train, y_test = train_test_split(X_scaled, y_sampled, test_size=0.2, random_state=42)\n",
    "\n",
    "# 初始化随机森林分类器\n",
    "rf_model = RandomForestClassifier(n_estimators=100, max_depth=None, random_state=42)\n",
    "\n",
    "# 使用交叉验证评估模型性能（仅在训练集上进行交叉验证）\n",
    "cv = StratifiedKFold(n_splits=5, shuffle=True, random_state=42)\n",
    "f1_scores = cross_val_score(rf_model, X_train, y_train, cv=cv, scoring='f1')\n",
    "\n",
    "print(\"随机森林模型 F1 分数均值:\", f1_scores.mean())\n",
    "print(\"各折 F1 分数:\", f1_scores)\n",
    "\n",
    "# 在训练集上训练模型\n",
    "rf_model.fit(X_train, y_train)\n",
    "\n",
    "# 在测试集上评估模型\n",
    "y_pred = rf_model.predict(X_test)\n",
    "print(\"\\n测试集 F1 分数:\", f1_score(y_test, y_pred))\n",
    "print(\"分类报告:\\n\", classification_report(y_test, y_pred))\n"
   ],
   "id": "7a67869b56c750d",
   "execution_count": 110,
   "outputs": []
  },
  {
   "metadata": {},
   "cell_type": "code",
   "source": [
    "# 特征重要性分析\n",
    "importances = rf_model.feature_importances_\n",
    "indices = np.argsort(importances)[::-1]\n",
    "\n",
    "# 获取特征名称\n",
    "feature_names = X_sampled.columns  # 假设 x 是一个 DataFrame\n",
    "\n",
    "# 可视化特征重要性\n",
    "plt.rcParams['font.sans-serif'] = ['SimHei']  # 设置中文字体\n",
    "plt.rcParams['axes.unicode_minus'] = False  # 解决负号显示问题\n",
    "plt.figure(figsize=(10, 6))\n",
    "plt.title('特征重要性')\n",
    "plt.bar(range(len(importances)), importances[indices], align='center')\n",
    "plt.xticks(range(len(importances)), feature_names[indices], rotation=45, ha='right')  # 使用特征名称\n",
    "plt.xlabel('相对重要性')\n",
    "plt.show()"
   ],
   "id": "818df08f491c054",
   "execution_count": null,
   "outputs": []
  },
  {
   "metadata": {
    "ExecuteTime": {
     "end_time": "2025-02-21T15:15:25.903417Z",
     "start_time": "2025-02-21T15:15:25.892413Z"
    }
   },
   "cell_type": "code",
   "source": "print(y_sampled)",
   "id": "88b6d56007d0858d",
   "execution_count": 102,
   "outputs": []
  },
  {
   "metadata": {
    "ExecuteTime": {
     "end_time": "2025-02-21T16:00:46.890545Z",
     "start_time": "2025-02-21T16:00:40.557844Z"
    }
   },
   "cell_type": "code",
   "source": [
    "import numpy as np\n",
    "import pandas as pd\n",
    "import xgboost as xgb\n",
    "from sklearn.preprocessing import StandardScaler\n",
    "from sklearn.model_selection import train_test_split\n",
    "from sklearn.metrics import classification_report, f1_score, roc_auc_score\n",
    "import matplotlib.pyplot as plt\n",
    "\n",
    "# 假设 x 是特征数据（DataFrame），y_sampled 是目标变量\n",
    "# 标准化数值特征\n",
    "scaler = StandardScaler()\n",
    "X_scaled = scaler.fit_transform(X)\n",
    "\n",
    "# 划分训练集和测试集\n",
    "X_train, X_test, y_train, y_test = train_test_split(X_scaled, y, test_size=0.3, random_state=42)\n",
    "\n",
    "# 初始化 XGBoost 分类器（使用默认参数）\n",
    "xgb_model = xgb.XGBClassifier(objective='binary:logistic', random_state=42)\n",
    "\n",
    "# 训练模型\n",
    "xgb_model.fit(X_train, y_train)\n",
    "\n",
    "# 在测试集上评估模型\n",
    "y_pred = xgb_model.predict(X_test)\n",
    "print(\"测试集 F1 分数:\", f1_score(y_test, y_pred))\n",
    "print(\"分类报告:\\n\", classification_report(y_test, y_pred))\n",
    "\n",
    "# 特征重要性分析\n",
    "importances = xgb_model.feature_importances_\n",
    "indices = np.argsort(importances)[::-1]\n",
    "feature_names = X.columns  # 假设 x 是一个 DataFrame\n",
    "\n",
    "# 可视化特征重要性\n",
    "plt.figure(figsize=(10, 6))\n",
    "plt.title('特征重要性')\n",
    "plt.bar(range(len(importances)), importances[indices], align='center')\n",
    "plt.xticks(range(len(importances)), feature_names[indices], rotation=45, ha='right')\n",
    "plt.xlabel('相对重要性')\n",
    "plt.show()"
   ],
   "id": "36084ba0b49f3aea",
   "execution_count": 125,
   "outputs": []
  },
  {
   "metadata": {
    "ExecuteTime": {
     "end_time": "2025-02-21T16:02:31.094375Z",
     "start_time": "2025-02-21T16:02:27.006138Z"
    }
   },
   "cell_type": "code",
   "source": [
    "# 特征重要性分析\n",
    "importances = xgb_model.feature_importances_\n",
    "indices = np.argsort(importances)[::-1]\n",
    "feature_names = X.columns  # 假设 x 是一个 DataFrame\n",
    "\n",
    "# 可视化特征重要性\n",
    "plt.figure(figsize=(10, 6))\n",
    "plt.title('特征重要性')\n",
    "plt.bar(range(len(importances)), importances[indices], align='center')\n",
    "plt.xticks(range(len(importances)), feature_names[indices], rotation=45, ha='right')\n",
    "plt.xlabel('相对重要性')\n",
    "plt.show()"
   ],
   "id": "ec47f5401545d801",
   "execution_count": 126,
   "outputs": []
  },
  {
   "metadata": {
    "ExecuteTime": {
     "end_time": "2025-02-21T15:18:47.805948Z",
     "start_time": "2025-02-21T15:18:47.619212Z"
    }
   },
   "cell_type": "code",
   "source": [
    "df_test=pd.read_csv('dataframe_test.csv')\n",
    "df_test[selected_features]"
   ],
   "id": "68bb788b864da33d",
   "execution_count": 111,
   "outputs": []
  },
  {
   "metadata": {
    "ExecuteTime": {
     "end_time": "2025-02-21T15:49:43.363188Z",
     "start_time": "2025-02-21T15:49:43.267069Z"
    }
   },
   "cell_type": "code",
   "source": [
    "X=pre(df_test[selected_features])\n",
    "y_pred=xgb_model.predict(X)"
   ],
   "id": "7b6968caca7aaa7e",
   "execution_count": 119,
   "outputs": []
  },
  {
   "metadata": {
    "ExecuteTime": {
     "end_time": "2025-02-21T15:50:04.451276Z",
     "start_time": "2025-02-21T15:50:04.398278Z"
    }
   },
   "cell_type": "code",
   "source": [
    "order_test = [i for i in range(len(df_test))]\n",
    "\n",
    "# 创建结果 DataFrame\n",
    "result_df = pd.DataFrame({\n",
    "    'order': order_test,\n",
    "    'action_type_DELIVER': y_pred\n",
    "})\n",
    "\n",
    "# 按照 order 递增排序\n",
    "result_df = result_df.sort_values(by='order')\n",
    "\n",
    "# 保存到 CSV 文件\n",
    "result_df.to_csv('prediction_results.csv', index=False)"
   ],
   "id": "f32ffee5bddb823",
   "execution_count": 120,
   "outputs": []
  },
  {
   "metadata": {},
   "cell_type": "code",
   "source": [
    "X_train, X_test, y_train, y_test = train_test_split(\n",
    "    X, y,\n",
    "    test_size=0.3,          # 测试集占30%\n",
    "    random_state=42,        # 固定随机种子\n",
    "    stratify=y              # 保持类别分布一致\n",
    ")\n",
    "\n",
    "# 6. 标准化数值特征（仅需对训练集拟合）\n",
    "scaler = StandardScaler()\n",
    "X_train_scaled = scaler.fit_transform(X_train)\n",
    "X_test_scaled = scaler.transform(X_test)\n",
    "\n",
    "print(\"训练集大小:\", X_train.shape[0])\n",
    "print(\"测试集大小:\", X_test.shape[0])"
   ],
   "id": "b48b746c0a45c77f",
   "execution_count": null,
   "outputs": []
  },
  {
   "metadata": {},
   "cell_type": "code",
   "source": [
    "from sklearn.linear_model import LogisticRegression\n",
    "from sklearn.metrics import f1_score\n",
    "\n",
    "# 训练逻辑回归模型\n",
    "model = LogisticRegression(max_iter=1000)\n",
    "model.fit(X_train_scaled, y_train)\n",
    "\n",
    "# 预测测试集\n",
    "y_pred = model.predict(X_test_scaled)\n",
    "\n",
    "# 计算F1分数\n",
    "f1 = f1_score(y_test, y_pred)  # 假设DELIVERY为1\n",
    "print(\"测试集F1分数:\", f1)"
   ],
   "id": "1bdd6081f4be3921",
   "execution_count": null,
   "outputs": []
  }
 ],
 "metadata": {
  "kernelspec": {
   "display_name": "Python 3",
   "language": "python",
   "name": "python3"
  },
  "language_info": {
   "codemirror_mode": {
    "name": "ipython",
    "version": 2
   },
   "file_extension": ".py",
   "mimetype": "text/x-python",
   "name": "python",
   "nbconvert_exporter": "python",
   "pygments_lexer": "ipython2",
   "version": "2.7.6"
  }
 },
 "nbformat": 4,
 "nbformat_minor": 5
}
