{
 "cells": [
  {
   "cell_type": "code",
   "id": "initial_id",
   "metadata": {
    "collapsed": true,
    "ExecuteTime": {
     "end_time": "2025-02-21T15:44:14.068244Z",
     "start_time": "2025-02-21T15:44:11.360752Z"
    }
   },
   "source": [
    "import pandas as pd\n",
    "from sklearn.preprocessing import LabelEncoder, OneHotEncoder\n",
    "from sklearn.model_selection import train_test_split\n",
    "\n",
    "# 加载训练数据\n",
    "df_train = pd.read_csv(\"dataframe_train.csv\")\n",
    "\n",
    "# 选择初始特征\n",
    "selected_features = ['courier_id', 'wave_index', 'courier_wave_start_lng',\n",
    "       'courier_wave_start_lat', 'date', 'group', 'level',\n",
    "       'speed', 'max_load', 'weather_grade', 'aoi_id', 'shop_id',\n",
    "       'source_type', 'source_tracking_id', 'source_lng', 'source_lat',\n",
    "       'target_lng', 'target_lat', 'grid_distance', \n",
    "       'urgency']\n",
    "\n",
    "# 提取特征和目标变量\n",
    "X = df_train[selected_features]\n",
    "y = df_train['expected_use_time']  "
   ],
   "execution_count": 11,
   "outputs": []
  },
  {
   "metadata": {
    "ExecuteTime": {
     "end_time": "2025-02-21T15:44:45.762980Z",
     "start_time": "2025-02-21T15:44:44.915408Z"
    }
   },
   "cell_type": "code",
   "source": [
    "def pre(X):\n",
    "    X['date'] = pd.to_datetime(X['date'], format='%Y%m%d')\n",
    "    \n",
    "    # 提取日期特征\n",
    "    X['day_of_week'] = X['date'].dt.dayofweek  # 星期几（0=周一，6=周日）\n",
    "    X['is_weekend'] = X['day_of_week'].apply(lambda x: 1 if x >= 5 else 0)  # 是否周末\n",
    "    \n",
    "    # 删除原始日期列\n",
    "    X = X.drop(columns=['date'])\n",
    "    # 计算每个 aoi_id 的出现频率\n",
    "    aoi_freq = X['aoi_id'].value_counts(normalize=True).to_dict()\n",
    "    X['aoi_freq'] = X['aoi_id'].map(aoi_freq)\n",
    "    \n",
    "    # 计算每个 shop_id 的出现频率\n",
    "    shop_freq = X['shop_id'].value_counts(normalize=True).to_dict()\n",
    "    X['shop_freq'] = X['shop_id'].map(shop_freq)\n",
    "    \n",
    "    # 删除原始高基数列\n",
    "    X = X.drop(columns=['aoi_id', 'shop_id'])\n",
    "    X = X.drop(columns=['courier_id'])\n",
    "    \n",
    "    # 定义天气等级的顺序（根据业务逻辑调整）\n",
    "    weather_order = ['Normal Weather' ,'Slightly Bad Weather','Bad Weather' ,'Very Bad Weather']\n",
    "    X['weather_grade'] = X['weather_grade'].map({k: v for v, k in enumerate(weather_order)})\n",
    "    \n",
    "    mapping = {\n",
    "        'DELIVERY': 1,\n",
    "        'PICKUP': 0,\n",
    "        'ASSIGN':2\n",
    "    }\n",
    "    \n",
    "    X['source_type']=X['source_type'].map(mapping)\n",
    "    return X\n",
    "X=pre(X)"
   ],
   "id": "7192f7f750ed0973",
   "execution_count": 12,
   "outputs": []
  },
  {
   "metadata": {
    "ExecuteTime": {
     "end_time": "2025-02-21T15:30:34.081425Z",
     "start_time": "2025-02-21T15:30:33.975763Z"
    }
   },
   "cell_type": "code",
   "source": [
    "df_sampled = pd.concat([X, y], axis=1).sample(n=40000, random_state=42)\n",
    "\n",
    "# 重新分离特征和目标\n",
    "X_sampled = df_sampled.drop(columns=['expected_use_time'])\n",
    "y_sampled = df_sampled['expected_use_time']"
   ],
   "id": "66261842194e6727",
   "execution_count": 4,
   "outputs": []
  },
  {
   "metadata": {
    "ExecuteTime": {
     "end_time": "2025-02-21T16:09:44.910992Z",
     "start_time": "2025-02-21T15:46:27.600957Z"
    }
   },
   "cell_type": "code",
   "source": [
    "import numpy as np\n",
    "import pandas as pd\n",
    "from sklearn.ensemble import RandomForestRegressor\n",
    "from sklearn.preprocessing import StandardScaler\n",
    "from sklearn.model_selection import train_test_split\n",
    "from sklearn.metrics import mean_absolute_error\n",
    "scaler = StandardScaler()\n",
    "X_scaled = scaler.fit_transform(X)  # 假设 'order' 列不需要标准化\n",
    "\n",
    "# 划分训练集和测试集（80% 训练集，20% 测试集）\n",
    "X_train, X_test, y_train, y_test = train_test_split(X_scaled, y, test_size=0.2, random_state=42)\n",
    "\n",
    "# 初始化随机森林回归器\n",
    "rf_regressor = RandomForestRegressor(n_estimators=100, max_depth=None, random_state=42)\n",
    "\n",
    "# 在训练集上训练模型\n",
    "rf_regressor.fit(X_train, y_train)\n",
    "\n",
    "# 在测试集上进行预测\n",
    "y_pred = rf_regressor.predict(X_test)\n",
    "\n",
    "# 使用 MAE 评估模型性能\n",
    "mae = mean_absolute_error(y_test, y_pred)\n",
    "print(\"平均绝对误差 (MAE):\", mae)  "
   ],
   "id": "36dce65548bad753",
   "execution_count": 15,
   "outputs": []
  },
  {
   "metadata": {
    "ExecuteTime": {
     "end_time": "2025-02-21T16:10:25.246496Z",
     "start_time": "2025-02-21T16:10:19.095599Z"
    }
   },
   "cell_type": "code",
   "source": [
    "import numpy as np\n",
    "import pandas as pd\n",
    "import xgboost as xgb\n",
    "from sklearn.preprocessing import StandardScaler\n",
    "from sklearn.model_selection import train_test_split\n",
    "from sklearn.metrics import mean_absolute_error\n",
    "import matplotlib.pyplot as plt\n",
    "\n",
    "\n",
    "\n",
    "# 标准化数值特征\n",
    "scaler = StandardScaler()\n",
    "X_scaled = scaler.fit_transform(X)  \n",
    "\n",
    "# 划分训练集和测试集（80% 训练集，20% 测试集）\n",
    "X_train, X_test, y_train, y_test = train_test_split(X_scaled, y, test_size=0.2, random_state=42)\n",
    "\n",
    "# 初始化 XGBoost 回归器\n",
    "xgb_regressor = xgb.XGBRegressor(objective='reg:squarederror', random_state=42)\n",
    "\n",
    "# 在训练集上训练模型\n",
    "xgb_regressor.fit(X_train, y_train)\n",
    "\n",
    "# 在测试集上进行预测\n",
    "y_pred = xgb_regressor.predict(X_test)\n",
    "\n",
    "# 使用 MAE 评估模型性能\n",
    "mae = mean_absolute_error(y_test, y_pred)\n",
    "print(\"平均绝对误差 (MAE):\", mae)  # MAE 越小，表示模型预测越准确\n"
   ],
   "id": "50311b36368142a2",
   "execution_count": 17,
   "outputs": []
  },
  {
   "metadata": {
    "ExecuteTime": {
     "end_time": "2025-02-21T16:14:40.636736Z",
     "start_time": "2025-02-21T16:14:17.335017Z"
    }
   },
   "cell_type": "code",
   "source": [
    "import xgboost as xgb\n",
    "from sklearn.model_selection import train_test_split\n",
    "from sklearn.metrics import mean_absolute_error\n",
    "\n",
    "# 划分训练集和测试集\n",
    "X_train, X_test, y_train, y_test = train_test_split(X_scaled, y, test_size=0.2, random_state=42)\n",
    "\n",
    "# 初始化 XGBoost 回归器\n",
    "xgb_regressor = xgb.XGBRegressor(\n",
    "    objective='reg:squarederror',\n",
    "    n_estimators=300,\n",
    "    learning_rate=0.01,\n",
    "    max_depth=5,\n",
    "    min_child_weight=10,\n",
    "    gamma=0.1,\n",
    "    reg_alpha=0.5,\n",
    "    reg_lambda=1.0,\n",
    "    subsample=0.8,\n",
    "    colsample_bytree=0.8,\n",
    "    random_state=42\n",
    ")\n",
    "\n",
    "# 在训练集上训练模型\n",
    "xgb_regressor.fit(X_train, y_train, eval_set=[(X_test, y_test)],  verbose=True)\n",
    "\n",
    "# 在测试集上进行预测\n",
    "y_pred = xgb_regressor.predict(X_test)\n",
    "\n",
    "# 使用 MAE 评估模型性能\n",
    "mae = mean_absolute_error(y_test, y_pred)\n",
    "print(\"平均绝对误差 (MAE):\", mae)"
   ],
   "id": "4653ee4127cc2921",
   "execution_count": 20,
   "outputs": []
  },
  {
   "metadata": {
    "ExecuteTime": {
     "end_time": "2025-02-21T15:40:35.409935Z",
     "start_time": "2025-02-21T15:40:35.209138Z"
    }
   },
   "cell_type": "code",
   "source": [
    "df_test = pd.read_csv(\"dataframe_test.csv\")\n",
    "df_test = pre(df_test[selected_features])"
   ],
   "id": "ff9e37b871dca82b",
   "execution_count": 7,
   "outputs": []
  },
  {
   "metadata": {
    "ExecuteTime": {
     "end_time": "2025-02-21T16:16:32.825366Z",
     "start_time": "2025-02-21T16:16:32.781324Z"
    }
   },
   "cell_type": "code",
   "source": "pred_test = xgb_regressor.predict(df_test)",
   "id": "abd31e706b168e4b",
   "execution_count": 21,
   "outputs": []
  },
  {
   "metadata": {
    "ExecuteTime": {
     "end_time": "2025-02-21T16:16:34.508573Z",
     "start_time": "2025-02-21T16:16:34.430574Z"
    }
   },
   "cell_type": "code",
   "source": [
    "order_test = [i for i in range(len(df_test))]\n",
    "\n",
    "# 创建结果 DataFrame\n",
    "result_df = pd.DataFrame({\n",
    "    'order': order_test,\n",
    "    'expected_use_time': pred_test,\n",
    "})\n",
    "\n",
    "# 按照 order 递增排序\n",
    "result_df = result_df.sort_values(by='order')\n",
    "\n",
    "# 保存到 CSV 文件\n",
    "result_df.to_csv('prediction_results1.csv', index=False)"
   ],
   "id": "b389dd8bd5e7ab38",
   "execution_count": 22,
   "outputs": []
  }
 ],
 "metadata": {
  "kernelspec": {
   "display_name": "Python 3",
   "language": "python",
   "name": "python3"
  },
  "language_info": {
   "codemirror_mode": {
    "name": "ipython",
    "version": 2
   },
   "file_extension": ".py",
   "mimetype": "text/x-python",
   "name": "python",
   "nbconvert_exporter": "python",
   "pygments_lexer": "ipython2",
   "version": "2.7.6"
  }
 },
 "nbformat": 4,
 "nbformat_minor": 5
}
