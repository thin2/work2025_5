{
 "cells": [
  {
   "cell_type": "code",
   "id": "initial_id",
   "metadata": {
    "collapsed": true,
    "ExecuteTime": {
     "end_time": "2025-03-25T11:47:47.698906Z",
     "start_time": "2025-03-25T11:47:47.640891Z"
    }
   },
   "source": [
    "import pandas as pd\n",
    "df=pd.read_csv('2019.csv')\n",
    "df.head()"
   ],
   "execution_count": 1,
   "outputs": []
  },
  {
   "metadata": {
    "ExecuteTime": {
     "end_time": "2025-03-25T11:49:14.490858Z",
     "start_time": "2025-03-25T11:49:14.477147Z"
    }
   },
   "cell_type": "code",
   "source": "df.info()",
   "id": "1e1bde43858e16a8",
   "execution_count": 2,
   "outputs": []
  },
  {
   "metadata": {
    "ExecuteTime": {
     "end_time": "2025-03-25T12:05:20.252678Z",
     "start_time": "2025-03-25T12:05:20.241260Z"
    }
   },
   "cell_type": "code",
   "source": "df.isna().sum()",
   "id": "ae8f8e2759b025a7",
   "execution_count": 3,
   "outputs": []
  },
  {
   "metadata": {
    "ExecuteTime": {
     "end_time": "2025-03-25T12:15:32.177418Z",
     "start_time": "2025-03-25T12:15:32.167585Z"
    }
   },
   "cell_type": "code",
   "source": [
    "region_avg=df.groupby('Country or region')['Score'].mean().sort_values(ascending=False)\n",
    "region_avg"
   ],
   "id": "f2eb995bbdd6fac7",
   "execution_count": 5,
   "outputs": []
  },
  {
   "metadata": {
    "ExecuteTime": {
     "end_time": "2025-03-25T12:19:44.599032Z",
     "start_time": "2025-03-25T12:19:44.592074Z"
    }
   },
   "cell_type": "code",
   "source": [
    "top_country=region_avg.head(1)\n",
    "top_country"
   ],
   "id": "254caeca45a654a4",
   "execution_count": 7,
   "outputs": []
  },
  {
   "metadata": {
    "ExecuteTime": {
     "end_time": "2025-03-25T12:25:32.203464Z",
     "start_time": "2025-03-25T12:25:32.195589Z"
    }
   },
   "cell_type": "code",
   "source": [
    "top5=region_avg.head(5)\n",
    "top5"
   ],
   "id": "9bcb91d3edea1c34",
   "execution_count": 9,
   "outputs": []
  },
  {
   "metadata": {
    "ExecuteTime": {
     "end_time": "2025-03-25T12:35:41.868181Z",
     "start_time": "2025-03-25T12:35:39.331020Z"
    }
   },
   "cell_type": "code",
   "source": [
    "import matplotlib.pyplot as plt\n",
    "plt.figure(figsize=(25, 6))\n",
    "plt.bar(region_avg.index, region_avg.values)\n",
    "plt.xlim(-0.5, len(region_avg) - 0.5)\n",
    "plt.xticks(rotation=90)\n",
    "plt.tight_layout()\n",
    "plt.title(\"Average Happiness Score by Region\")\n",
    "\n",
    "top5 = df.nlargest(5, \"Score\")\n",
    "plt.figure()\n",
    "plt.pie(top5[\"Score\"], labels=top5[\"Country or region\"], autopct=\"%1.1f%%\")\n",
    "plt.title(\"Happiness Score Distribution of Top 5 Countries\")\n",
    "plt.show()"
   ],
   "id": "4810dd5adeb1ae6b",
   "execution_count": 17,
   "outputs": []
  }
 ],
 "metadata": {
  "kernelspec": {
   "display_name": "Python 3",
   "language": "python",
   "name": "python3"
  },
  "language_info": {
   "codemirror_mode": {
    "name": "ipython",
    "version": 2
   },
   "file_extension": ".py",
   "mimetype": "text/x-python",
   "name": "python",
   "nbconvert_exporter": "python",
   "pygments_lexer": "ipython2",
   "version": "2.7.6"
  }
 },
 "nbformat": 4,
 "nbformat_minor": 5
}
