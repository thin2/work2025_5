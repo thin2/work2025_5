{
 "cells": [
  {
   "cell_type": "code",
   "id": "initial_id",
   "metadata": {
    "collapsed": true,
    "ExecuteTime": {
     "end_time": "2025-03-28T10:03:28.619919Z",
     "start_time": "2025-03-28T10:03:28.596337Z"
    }
   },
   "source": [
    "import math\n",
    "\n",
    "n = 12\n",
    "k = 5\n",
    "p = 0.3\n",
    "\n",
    "pro = math.comb(n, k) * (p ** k) * ((1 - p) ** (n - k))\n",
    "print(f\"The probability of getting exactly 5 tails is: {pro:.4f}\")\n"
   ],
   "execution_count": 1,
   "outputs": []
  },
  {
   "metadata": {
    "ExecuteTime": {
     "end_time": "2025-03-28T10:13:18.630794Z",
     "start_time": "2025-03-28T10:13:18.624643Z"
    }
   },
   "cell_type": "code",
   "source": [
    "import scipy.stats as stats\n",
    "\n",
    "m = 3500\n",
    "sigma = 500\n",
    "X = 4500\n",
    "\n",
    "Z = (X - m) / sigma\n",
    "\n",
    "pro = 1 - stats.norm.cdf(Z)\n",
    "print(f\"The probability of surviving beyond 4500 hours is: {pro:.4f}\")\n"
   ],
   "id": "3e393c2219ea4a58",
   "execution_count": 3,
   "outputs": []
  },
  {
   "metadata": {
    "ExecuteTime": {
     "end_time": "2025-03-28T10:13:41.820492Z",
     "start_time": "2025-03-28T10:13:41.814496Z"
    }
   },
   "cell_type": "code",
   "source": [
    "\n",
    "n = 4\n",
    "k = 2\n",
    "p = 3 / 4\n",
    "\n",
    "pro = math.comb(n, k) * (p ** k) * ((1 - p) ** (n - k))\n",
    "print(f\"The probability that exactly 2 out of 4 components survive is: {pro:.4f}\")\n"
   ],
   "id": "5bde156cf92c9f34",
   "execution_count": 4,
   "outputs": []
  },
  {
   "metadata": {
    "ExecuteTime": {
     "end_time": "2025-03-28T10:15:05.403302Z",
     "start_time": "2025-03-28T10:15:05.397295Z"
    }
   },
   "cell_type": "code",
   "source": [
    "\n",
    "n = 20\n",
    "p = 0.03\n",
    "\n",
    "prob = (1 - p) ** n\n",
    "\n",
    "pro = 1 - prob\n",
    "print(f\"The probability that there will be at least one defective item is: {pro:.4f}\")\n"
   ],
   "id": "a9bc5507c0c34a8",
   "execution_count": 5,
   "outputs": []
  },
  {
   "metadata": {
    "ExecuteTime": {
     "end_time": "2025-03-28T10:15:53.895363Z",
     "start_time": "2025-03-28T10:15:53.889363Z"
    }
   },
   "cell_type": "code",
   "source": [
    "\n",
    "lambda_ = 5\n",
    "k = 3\n",
    "\n",
    "prob = sum([math.exp(-lambda_) * (lambda_ ** i) / math.factorial(i) for i in range(k)])\n",
    "print(f\"The probability of having less than 3 claims in a day is: {prob:.4f}\")\n"
   ],
   "id": "e94872ab71271451",
   "execution_count": 6,
   "outputs": []
  },
  {
   "metadata": {
    "ExecuteTime": {
     "end_time": "2025-03-28T10:17:17.555313Z",
     "start_time": "2025-03-28T10:17:17.546293Z"
    }
   },
   "cell_type": "code",
   "source": [
    "\n",
    "lambda_ = 2.3 * 5 \n",
    "k1 = 10  \n",
    "k2 = 0  \n",
    "lambda_2mm = 2.3 * 2 \n",
    "\n",
    "pro1 = math.exp(-lambda_) * (lambda_ ** k1) / math.factorial(k1)\n",
    "\n",
    "pro2 = 1 - math.exp(-lambda_2mm)\n",
    "\n",
    "print(f\"The probability of 10 flaws in 5mm of wire is: {pro1:.4f}\")\n",
    "print(f\"The probability of at least 1 flaw in 2mm of wire is: {pro2:.4f}\")\n"
   ],
   "id": "e65ffdf92a9bceec",
   "execution_count": 7,
   "outputs": []
  },
  {
   "metadata": {
    "ExecuteTime": {
     "end_time": "2025-03-28T10:18:20.393367Z",
     "start_time": "2025-03-28T10:18:20.383336Z"
    }
   },
   "cell_type": "code",
   "source": [
    "\n",
    "mu = 0\n",
    "sigma = 0.45\n",
    "threshold = 0.9\n",
    "\n",
    "Z = (threshold - mu) / sigma\n",
    "\n",
    "pro = 1 - stats.norm.cdf(Z)\n",
    "\n",
    "z_99 = stats.norm.ppf(0.995)  \n",
    "lower_bound = -z_99 * sigma + mu\n",
    "upper_bound = z_99 * sigma + mu\n",
    "\n",
    "print(f\"The probability of detecting signal 1 when none was sent is: {pro:.4f}\")\n",
    "print(f\"The symmetric bounds about 0 that include 99% of all noise readings are: ({lower_bound:.4f}, {upper_bound:.4f})\")\n"
   ],
   "id": "1d90ef4966740138",
   "execution_count": 8,
   "outputs": []
  }
 ],
 "metadata": {
  "kernelspec": {
   "display_name": "Python 3",
   "language": "python",
   "name": "python3"
  },
  "language_info": {
   "codemirror_mode": {
    "name": "ipython",
    "version": 2
   },
   "file_extension": ".py",
   "mimetype": "text/x-python",
   "name": "python",
   "nbconvert_exporter": "python",
   "pygments_lexer": "ipython2",
   "version": "2.7.6"
  }
 },
 "nbformat": 4,
 "nbformat_minor": 5
}
