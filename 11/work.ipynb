{
 "cells": [
  {
   "cell_type": "code",
   "id": "initial_id",
   "metadata": {
    "collapsed": true,
    "ExecuteTime": {
     "end_time": "2025-03-24T13:19:27.872897Z",
     "start_time": "2025-03-24T13:19:24.086454Z"
    }
   },
   "source": [
    "import pandas as pd\n",
    "df=pd.read_excel('表格.xls',header=1)\n",
    "print(df.head())"
   ],
   "execution_count": 2,
   "outputs": []
  },
  {
   "metadata": {
    "ExecuteTime": {
     "end_time": "2025-03-24T13:19:27.905346Z",
     "start_time": "2025-03-24T13:19:27.878906Z"
    }
   },
   "cell_type": "code",
   "source": [
    "for i in df.columns:\n",
    "    print(i)\n",
    "    print(df[i].unique())"
   ],
   "id": "420d5bcac27132e3",
   "execution_count": 3,
   "outputs": []
  },
  {
   "metadata": {
    "ExecuteTime": {
     "end_time": "2025-03-24T13:19:27.936238Z",
     "start_time": "2025-03-24T13:19:27.908355Z"
    }
   },
   "cell_type": "code",
   "source": "print(df.info())",
   "id": "f0ecdea56a56292",
   "execution_count": 4,
   "outputs": []
  },
  {
   "metadata": {
    "ExecuteTime": {
     "end_time": "2025-03-24T13:19:27.946107Z",
     "start_time": "2025-03-24T13:19:27.939257Z"
    }
   },
   "cell_type": "code",
   "source": "print(df.columns)",
   "id": "de70c186c81e9e35",
   "execution_count": 5,
   "outputs": []
  },
  {
   "metadata": {
    "ExecuteTime": {
     "end_time": "2025-03-24T13:19:27.958118Z",
     "start_time": "2025-03-24T13:19:27.950121Z"
    }
   },
   "cell_type": "code",
   "source": [
    "columns=['SO2', 'CO(mg/m3)', 'NO2',\n",
    "       'O3-1H',  'PM10', 'PM2.5', 'NO', 'NOX', '湿度', '温度', '风速', '风向',\n",
    "        '大气压']"
   ],
   "id": "b301f3832c2d3d8e",
   "execution_count": 6,
   "outputs": []
  },
  {
   "metadata": {
    "ExecuteTime": {
     "end_time": "2025-03-24T13:19:28.013062Z",
     "start_time": "2025-03-24T13:19:27.961176Z"
    }
   },
   "cell_type": "code",
   "source": [
    "\n",
    "for col in columns:\n",
    "    df[col] = pd.to_numeric(df[col], errors='coerce')"
   ],
   "id": "4760fffa9eb07d27",
   "execution_count": 7,
   "outputs": []
  },
  {
   "metadata": {
    "ExecuteTime": {
     "end_time": "2025-03-24T13:19:28.029273Z",
     "start_time": "2025-03-24T13:19:28.016074Z"
    }
   },
   "cell_type": "code",
   "source": "print(df.isnull().sum())",
   "id": "acf74d3dcd379b51",
   "execution_count": 8,
   "outputs": []
  },
  {
   "metadata": {},
   "cell_type": "code",
   "execution_count": null,
   "source": "",
   "id": "f9d04bcb1669eac8",
   "outputs": []
  },
  {
   "metadata": {
    "ExecuteTime": {
     "end_time": "2025-03-24T13:19:28.051160Z",
     "start_time": "2025-03-24T13:19:28.032288Z"
    }
   },
   "cell_type": "code",
   "source": [
    "for col in columns:\n",
    "    median_value = df[col].median()\n",
    "    df[col] = df[col].fillna(median_value)"
   ],
   "id": "bd49a42024e8da71",
   "execution_count": 9,
   "outputs": []
  },
  {
   "metadata": {
    "ExecuteTime": {
     "end_time": "2025-03-24T13:19:28.115671Z",
     "start_time": "2025-03-24T13:19:28.053176Z"
    }
   },
   "cell_type": "code",
   "source": "print(df.describe())",
   "id": "11e30d9927be829e",
   "execution_count": 10,
   "outputs": []
  },
  {
   "metadata": {
    "ExecuteTime": {
     "end_time": "2025-03-24T13:19:28.141681Z",
     "start_time": "2025-03-24T13:19:28.121683Z"
    }
   },
   "cell_type": "code",
   "source": "print(df.info())",
   "id": "27688322500d157d",
   "execution_count": 11,
   "outputs": []
  },
  {
   "metadata": {
    "ExecuteTime": {
     "end_time": "2025-03-24T13:19:28.154166Z",
     "start_time": "2025-03-24T13:19:28.144199Z"
    }
   },
   "cell_type": "code",
   "source": [
    "import pandas as pd\n",
    "import numpy as np\n",
    "import matplotlib.pyplot as plt\n",
    "\n",
    "def replace_outliers_with_median_iqr(df, columns, iqr_scale=1.5):\n",
    "\n",
    "    df_clean = df.copy()\n",
    "    for col in columns:\n",
    "        # 计算四分位数和 IQR\n",
    "        Q1 = df_clean[col].quantile(0.25)\n",
    "        Q3 = df_clean[col].quantile(0.75)\n",
    "        IQR = Q3 - Q1\n",
    "        # 定义异常值边界\n",
    "        lower_bound = Q1 - iqr_scale * IQR\n",
    "        upper_bound = Q3 + iqr_scale * IQR\n",
    "        # 标记异常值\n",
    "        outlier_mask = (df_clean[col] < lower_bound) | (df_clean[col] > upper_bound)\n",
    "        # 计算中位数并填补\n",
    "        median_value = df_clean[col].median()\n",
    "        df_clean.loc[outlier_mask, col] = median_value\n",
    "    return df_clean"
   ],
   "id": "ec0e6032ebc4e77f",
   "execution_count": 12,
   "outputs": []
  },
  {
   "metadata": {
    "ExecuteTime": {
     "end_time": "2025-03-24T13:19:28.226940Z",
     "start_time": "2025-03-24T13:19:28.157174Z"
    }
   },
   "cell_type": "code",
   "source": [
    "columns_to_plot = ['SO2', 'CO(mg/m3)', 'NO2',  'PM10', 'PM2.5', 'NO', 'NOX']\n",
    "\n",
    "df_cleaned = replace_outliers_with_median_iqr(df, columns_to_plot)\n",
    "\n",
    "print(\"异常值填补后的数据摘要：\")\n",
    "print(df_cleaned.describe())"
   ],
   "id": "c4a48c57693195a3",
   "execution_count": 13,
   "outputs": []
  },
  {
   "metadata": {
    "ExecuteTime": {
     "end_time": "2025-03-24T13:19:28.237463Z",
     "start_time": "2025-03-24T13:19:28.229465Z"
    }
   },
   "cell_type": "code",
   "source": "df=df_cleaned.copy()",
   "id": "2714e8d29b033253",
   "execution_count": 14,
   "outputs": []
  },
  {
   "metadata": {
    "ExecuteTime": {
     "end_time": "2025-03-24T13:19:32.715709Z",
     "start_time": "2025-03-24T13:19:28.240985Z"
    }
   },
   "cell_type": "code",
   "source": [
    "import matplotlib.pyplot as plt\n",
    "import pandas as pd\n",
    "columns_to_plot = ['SO2', 'CO(mg/m3)', 'NO2',  'PM10', 'PM2.5', 'NO', 'NOX']\n",
    "df['time']=pd.to_datetime(df['时段'], format='%Y/%m/%d %H:%M:%S')\n",
    "\n",
    "plt.figure(figsize=(15, 8))\n",
    "\n",
    "for col in columns_to_plot:\n",
    "    plt.figure(figsize=(15, 8))\n",
    "    plt.plot(df['time'], df[col], label=col)  \n",
    "\n",
    "    plt.xlabel('Time', fontsize=12)\n",
    "    plt.ylabel('Concentration', fontsize=12)\n",
    "    plt.title('Air Quality Metrics Over Time', fontsize=14)\n",
    "    plt.legend(loc='upper left', bbox_to_anchor=(1.0, 1.0))  \n",
    "    plt.grid(alpha=0.3)\n",
    "\n",
    "    plt.gcf().autofmt_xdate()\n",
    "    \n",
    "    plt.tight_layout()\n",
    "    plt.show()"
   ],
   "id": "cd99391154cad939",
   "execution_count": 15,
   "outputs": []
  },
  {
   "metadata": {
    "ExecuteTime": {
     "end_time": "2025-03-24T13:19:33.501694Z",
     "start_time": "2025-03-24T13:19:32.716719Z"
    }
   },
   "cell_type": "code",
   "source": [
    "plt.figure(figsize=(16, 8))\n",
    "\n",
    "\n",
    "for col in columns_to_plot:\n",
    "    plt.plot(df['time'], df[col], label=col, alpha=0.7, linewidth=1)\n",
    "\n",
    "\n",
    "plt.xlabel('Time', fontsize=12)\n",
    "plt.ylabel('Standardized Value', fontsize=12) \n",
    "plt.title('Standardized Air Quality Metrics Over Time', fontsize=14)\n",
    "plt.legend(loc='upper left', bbox_to_anchor=(1.01, 1))  \n",
    "plt.grid(alpha=0.3)\n",
    "\n",
    "plt.gcf().autofmt_xdate()\n",
    "\n",
    "plt.tight_layout()\n",
    "plt.show()"
   ],
   "id": "ac5947f1ba979863",
   "execution_count": 16,
   "outputs": []
  },
  {
   "metadata": {
    "ExecuteTime": {
     "end_time": "2025-03-24T13:19:34.499870Z",
     "start_time": "2025-03-24T13:19:33.503703Z"
    }
   },
   "cell_type": "code",
   "source": [
    "from sklearn.preprocessing import StandardScaler\n",
    "\n",
    "columns_to_scale = ['SO2', 'CO(mg/m3)', 'NO2', 'PM10', 'PM2.5', 'NO', 'NOX']\n",
    "\n",
    "scaler = StandardScaler()\n",
    "df_scaled = pd.DataFrame(scaler.fit_transform(df[columns_to_scale]), \n",
    "                         columns=columns_to_scale, \n",
    "                         index=df.index)\n",
    "\n",
    "df_scaled['time'] = df['time']"
   ],
   "id": "5a39ae5570c911c4",
   "execution_count": 17,
   "outputs": []
  },
  {
   "metadata": {
    "ExecuteTime": {
     "end_time": "2025-03-24T13:19:35.395785Z",
     "start_time": "2025-03-24T13:19:34.502389Z"
    }
   },
   "cell_type": "code",
   "source": [
    "import matplotlib.pyplot as plt\n",
    "\n",
    "# \n",
    "plt.figure(figsize=(16, 8))\n",
    "\n",
    "for col in columns_to_scale:\n",
    "    plt.plot(df_scaled['time'], df_scaled[col], label=col, alpha=0.7, linewidth=1)\n",
    "\n",
    "plt.xlabel('Time', fontsize=12)\n",
    "plt.ylabel('Standardized Value', fontsize=12)  \n",
    "plt.title('Standardized Air Quality Metrics Over Time', fontsize=14)\n",
    "plt.legend(loc='upper left', bbox_to_anchor=(1.01, 1))  # 图例放在右侧\n",
    "plt.grid(alpha=0.3)\n",
    "\n",
    "plt.gcf().autofmt_xdate()\n",
    "\n",
    "plt.tight_layout()\n",
    "plt.show()"
   ],
   "id": "18792f4517ad3d23",
   "execution_count": 18,
   "outputs": []
  },
  {
   "metadata": {
    "ExecuteTime": {
     "end_time": "2025-03-24T13:19:35.412450Z",
     "start_time": "2025-03-24T13:19:35.397303Z"
    }
   },
   "cell_type": "code",
   "source": [
    "from sklearn.preprocessing import MinMaxScaler\n",
    "\n",
    "scaler = MinMaxScaler()\n",
    "df_scaled = pd.DataFrame(scaler.fit_transform(df[columns_to_scale]), \n",
    "                         columns=columns_to_scale, \n",
    "                         index=df.index)\n",
    "df_scaled['time'] = df['time']"
   ],
   "id": "89890f267301dd6d",
   "execution_count": 19,
   "outputs": []
  },
  {
   "metadata": {
    "ExecuteTime": {
     "end_time": "2025-03-24T13:19:36.248544Z",
     "start_time": "2025-03-24T13:19:35.415463Z"
    }
   },
   "cell_type": "code",
   "source": [
    "import matplotlib.pyplot as plt\n",
    "\n",
    "plt.figure(figsize=(16, 8))\n",
    "\n",
    "for col in columns_to_scale:\n",
    "    plt.plot(df_scaled['time'], df_scaled[col], label=col, alpha=0.7, linewidth=1)\n",
    "\n",
    "plt.xlabel('Time', fontsize=12)\n",
    "plt.ylabel('Normalized Value', fontsize=12)  \n",
    "plt.title('Standardized Air Quality Metrics Over Time', fontsize=14)\n",
    "plt.legend(loc='upper left', bbox_to_anchor=(1.01, 1))  \n",
    "plt.grid(alpha=0.3)\n",
    "\n",
    "plt.gcf().autofmt_xdate()\n",
    "\n",
    "plt.tight_layout()\n",
    "plt.show()"
   ],
   "id": "3ce82923af0aeba6",
   "execution_count": 20,
   "outputs": []
  },
  {
   "metadata": {
    "ExecuteTime": {
     "end_time": "2025-03-24T13:19:36.264578Z",
     "start_time": "2025-03-24T13:19:36.250552Z"
    }
   },
   "cell_type": "code",
   "source": [
    "\n",
    "df_subset = df[columns_to_plot]\n",
    "corr_matrix = df_subset.corr()\n",
    "print(corr_matrix)"
   ],
   "id": "e6a63e3b72c999d5",
   "execution_count": 21,
   "outputs": []
  },
  {
   "metadata": {
    "ExecuteTime": {
     "end_time": "2025-03-24T13:19:36.836720Z",
     "start_time": "2025-03-24T13:19:36.266588Z"
    }
   },
   "cell_type": "code",
   "source": [
    "import seaborn as sns\n",
    "\n",
    "plt.figure(figsize=(12, 8))\n",
    "\n",
    "sns.heatmap(\n",
    "    data=corr_matrix,       \n",
    "    annot=True,           \n",
    "    fmt=\".2f\",              \n",
    "    cmap='coolwarm',         \n",
    "    linewidths=0.5,          \n",
    "    linecolor='white',       \n",
    "    vmin=-1, vmax=1         \n",
    ")\n",
    "\n",
    "plt.title('空气质量指标相关性热力图', fontsize=14)\n",
    "plt.xticks(rotation=45, ha='right')  \n",
    "plt.yticks(rotation=0)               \n",
    "\n",
    "plt.tight_layout()\n",
    "plt.show()"
   ],
   "id": "4713e4977083aafc",
   "execution_count": 22,
   "outputs": []
  }
 ],
 "metadata": {
  "kernelspec": {
   "display_name": "Python 3",
   "language": "python",
   "name": "python3"
  },
  "language_info": {
   "codemirror_mode": {
    "name": "ipython",
    "version": 2
   },
   "file_extension": ".py",
   "mimetype": "text/x-python",
   "name": "python",
   "nbconvert_exporter": "python",
   "pygments_lexer": "ipython2",
   "version": "2.7.6"
  }
 },
 "nbformat": 4,
 "nbformat_minor": 5
}
