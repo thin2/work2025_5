{
 "cells": [
  {
   "cell_type": "code",
   "id": "initial_id",
   "metadata": {
    "collapsed": true,
    "ExecuteTime": {
     "end_time": "2025-03-28T08:38:22.179664Z",
     "start_time": "2025-03-28T08:38:22.150711Z"
    }
   },
   "source": [
    "pro=1/2\n",
    "print(f'The probability of getting heads is {pro}')"
   ],
   "execution_count": 1,
   "outputs": []
  },
  {
   "metadata": {},
   "cell_type": "code",
   "execution_count": null,
   "source": [
    "pro=1/6\n",
    "print(f'The probability of getting a number is {pro}')"
   ],
   "id": "6f3e299ada5b579",
   "outputs": []
  },
  {
   "metadata": {
    "ExecuteTime": {
     "end_time": "2025-03-28T09:05:53.624431Z",
     "start_time": "2025-03-28T09:05:53.615571Z"
    }
   },
   "cell_type": "code",
   "source": [
    "import random\n",
    "a=random.random()\n",
    "print(f'The random float number is {a}')\n",
    "arr=[random.random() for i in range(10)]\n",
    "print(f'The random float numbers are {arr}')\n",
    "arr=[random.randint(1,6) for i in range(10)]\n",
    "arr1=[num/sum(arr) for num in arr]\n",
    "print(f' 归一化随机数{arr1}')\n",
    "a=random.randint(1,6)\n",
    "print(f'The random integer number is {a}')\n",
    "a=random.random()\n",
    "print(f'The random float number is {a}')"
   ],
   "id": "eae6935f1cb9ac0e",
   "execution_count": 2,
   "outputs": []
  },
  {
   "metadata": {
    "ExecuteTime": {
     "end_time": "2025-03-28T09:08:58.261460Z",
     "start_time": "2025-03-28T09:08:58.256104Z"
    }
   },
   "cell_type": "code",
   "source": [
    "sample=[1,2,3,4,5]\n",
    "event=[1,2,3]\n",
    "print(f'The probability  is {len(event)/len(sample)}')"
   ],
   "id": "c499bbe9916f7a8f",
   "execution_count": 5,
   "outputs": []
  },
  {
   "metadata": {
    "ExecuteTime": {
     "end_time": "2025-03-28T09:09:49.502399Z",
     "start_time": "2025-03-28T09:09:49.498538Z"
    }
   },
   "cell_type": "code",
   "source": [
    "pro=1/13\n",
    "print(f'The probability of getting an ace is {pro}')"
   ],
   "id": "b6d3fa2da08fa5dd",
   "execution_count": 6,
   "outputs": []
  },
  {
   "metadata": {
    "ExecuteTime": {
     "end_time": "2025-03-28T09:12:25.875196Z",
     "start_time": "2025-03-28T09:12:25.859078Z"
    }
   },
   "cell_type": "code",
   "source": [
    "numbers = [1, 2, 3, 4, 5, 6, 7, 8, 9, 10, 11, 23]\n",
    "total = len(numbers)\n",
    "\n",
    "even = [x for x in numbers if x % 2 == 0]\n",
    "prob_even = len(even) /total\n",
    "\n",
    "def is_prime(n):\n",
    "    if n < 2:\n",
    "        return False\n",
    "    for i in range(2, int(n**0.5)+1):\n",
    "        if n % i == 0:\n",
    "            return False\n",
    "    return True\n",
    "\n",
    "primes = [x for x in numbers if is_prime(x)]\n",
    "prob_prime = len(primes) / total\n",
    "\n",
    "divisible = [x for x in numbers if x % 15 == 0]  # 3*5=15\n",
    "prob_div = len(divisible) / total\n",
    "\n",
    "print(f\"7(i). 偶数概率: {prob_even:.2f}\")\n",
    "print(f\"7(ii). 质数概率: {prob_prime:.2f}\")\n",
    "print(f\"7(iii). 被3和5整除的概率: {prob_div:.2f}\")"
   ],
   "id": "d2abfb9b2298179b",
   "execution_count": 7,
   "outputs": []
  },
  {
   "metadata": {
    "ExecuteTime": {
     "end_time": "2025-03-28T09:13:08.159494Z",
     "start_time": "2025-03-28T09:13:08.148702Z"
    }
   },
   "cell_type": "code",
   "source": [
    "a = [11, 12, 13, 14]\n",
    "b = [21, 22, 23, 24, 25]\n",
    "c = [31, 32, 33, 34, 35, 36]\n",
    "combined = a + b + c\n",
    "selected = random.sample(combined, 3)\n",
    "print(f\"8. 随机选3项: {selected}\")"
   ],
   "id": "9d86f3fbe6c6aea7",
   "execution_count": 8,
   "outputs": []
  },
  {
   "metadata": {},
   "cell_type": "markdown",
   "source": "",
   "id": "804101662e6355fd"
  },
  {
   "metadata": {
    "ExecuteTime": {
     "end_time": "2025-03-28T09:13:32.361954Z",
     "start_time": "2025-03-28T09:13:32.356953Z"
    }
   },
   "cell_type": "code",
   "source": [
    "choices = len(a) * len(b) * len(c)\n",
    "prob = 1 / choices\n",
    "print(f\"9(i). 概率: {prob:.6f}\")"
   ],
   "id": "ecb9f647d3406143",
   "execution_count": 9,
   "outputs": []
  },
  {
   "metadata": {
    "ExecuteTime": {
     "end_time": "2025-03-28T09:25:06.147084Z",
     "start_time": "2025-03-28T09:25:06.141801Z"
    }
   },
   "cell_type": "code",
   "source": [
    "pro=4/51\n",
    "print(f'The probability of drawing a king from a standard deck of 52 cards, given an ace has already been drawn is {pro}')"
   ],
   "id": "4aed2e8884d2df6",
   "execution_count": 11,
   "outputs": []
  },
  {
   "metadata": {
    "ExecuteTime": {
     "end_time": "2025-03-28T09:26:07.120191Z",
     "start_time": "2025-03-28T09:26:07.115386Z"
    }
   },
   "cell_type": "code",
   "source": [
    "pro=4/8\n",
    "print(f'A given B is {pro}')"
   ],
   "id": "df274a0dc0c1c070",
   "execution_count": 12,
   "outputs": []
  },
  {
   "metadata": {
    "ExecuteTime": {
     "end_time": "2025-03-28T09:27:11.711434Z",
     "start_time": "2025-03-28T09:27:11.703194Z"
    }
   },
   "cell_type": "code",
   "source": [
    "pro=6/12\n",
    "print(f' Red Card Given a Face Card is {pro}')"
   ],
   "id": "5b8e1b69ed648ada",
   "execution_count": 13,
   "outputs": []
  },
  {
   "metadata": {
    "ExecuteTime": {
     "end_time": "2025-03-28T09:28:56.856421Z",
     "start_time": "2025-03-28T09:28:56.849666Z"
    }
   },
   "cell_type": "code",
   "source": [
    "pro_1=30/(30+44)\n",
    "print(f'Probability of Being Male Given the Individual Prefers Baseball is {pro_1}')\n",
    "pro_2=26/150\n",
    "print(f'Probability of Preferring Basketball Given the Individual is Female is {pro_2}')"
   ],
   "id": "31aa1faeb438b585",
   "execution_count": 14,
   "outputs": []
  },
  {
   "metadata": {
    "ExecuteTime": {
     "end_time": "2025-03-28T09:34:30.328653Z",
     "start_time": "2025-03-28T09:34:30.307657Z"
    }
   },
   "cell_type": "code",
   "source": [
    "pro=1/3\n",
    "import random\n",
    "\n",
    "def simulate(n=10000):\n",
    "    count = 0\n",
    "    count1 = 0\n",
    "    for _ in range(n):\n",
    "      \n",
    "        child1 = random.choice(['G', 'B'])\n",
    "        child2 = random.choice(['G', 'B'])\n",
    "\n",
    "        if 'G' in (child1, child2):\n",
    "            count1 += 1\n",
    "          \n",
    "            if child1 == 'G' and child2 == 'G':\n",
    "                count += 1\n",
    "\n",
    "    return count / count1 if count1 else 0\n",
    "probability = simulate()\n",
    "print(f\"在至少有一个女孩的家庭中，两孩子都是女孩的概率约为：{probability:.4f}\")\n",
    "print(f'理论概率{pro}')"
   ],
   "id": "33e3cb7cae1cac6f",
   "execution_count": 15,
   "outputs": []
  },
  {
   "metadata": {
    "ExecuteTime": {
     "end_time": "2025-03-28T09:36:15.178909Z",
     "start_time": "2025-03-28T09:36:15.173597Z"
    }
   },
   "cell_type": "code",
   "source": [
    "pro=11/17\n",
    "print(f'概率:{pro}')"
   ],
   "id": "89ac42e097743b0b",
   "execution_count": 16,
   "outputs": []
  },
  {
   "metadata": {
    "ExecuteTime": {
     "end_time": "2025-03-28T09:40:28.604546Z",
     "start_time": "2025-03-28T09:40:28.600253Z"
    }
   },
   "cell_type": "code",
   "source": [
    "pro=13/20\n",
    "print(f'概率:{pro}')"
   ],
   "id": "a7cc0158e5bfecf0",
   "execution_count": 17,
   "outputs": []
  },
  {
   "metadata": {
    "ExecuteTime": {
     "end_time": "2025-03-28T09:46:29.280645Z",
     "start_time": "2025-03-28T09:46:29.270569Z"
    }
   },
   "cell_type": "code",
   "source": [
    "pro=(16+11-5)/32\n",
    "print(f'概率:{pro}')"
   ],
   "id": "88becd2104fcba4a",
   "execution_count": 18,
   "outputs": []
  },
  {
   "metadata": {
    "ExecuteTime": {
     "end_time": "2025-03-28T09:46:57.569023Z",
     "start_time": "2025-03-28T09:46:57.558613Z"
    }
   },
   "cell_type": "code",
   "source": [
    "pro=6/21*5/20\n",
    "print(f'概率:{pro}')"
   ],
   "id": "8086544273c9e5ca",
   "execution_count": 19,
   "outputs": []
  },
  {
   "metadata": {
    "ExecuteTime": {
     "end_time": "2025-03-28T09:53:11.076825Z",
     "start_time": "2025-03-28T09:53:11.068813Z"
    }
   },
   "cell_type": "code",
   "source": [
    "from math import prod\n",
    "\n",
    "def pro_no_sophomore():\n",
    "    P1 = 14 / 19  \n",
    "    P2 = 13 / 18  \n",
    "    P3 = 12 / 17 \n",
    "    P4 = 11 / 16  \n",
    "    \n",
    "    P_no_sophomore = prod([P1, P2, P3, P4])  \n",
    "    return P_no_sophomore\n",
    "\n",
    "def probability():\n",
    "    return 1 - pro_no_sophomore()\n",
    "\n",
    "p_no_sophomore = pro_no_sophomore()\n",
    "p_one_sophomore = probability()\n",
    "\n",
    "print(f\"没有二年级同学的概率: {p_no_sophomore:.3f}\")\n",
    "print(f\"至少有一名二年级同学的概率: {p_one_sophomore:.3f}\")\n"
   ],
   "id": "c373a9c6bf67d841",
   "execution_count": 20,
   "outputs": []
  },
  {
   "metadata": {
    "ExecuteTime": {
     "end_time": "2025-03-28T09:55:23.883839Z",
     "start_time": "2025-03-28T09:55:23.874931Z"
    }
   },
   "cell_type": "code",
   "source": [
    "\n",
    "def bayes_theorem(p_t_d, p_d, p_t_d_complement, p_d_complement):\n",
    "    p_t = p_t_d * p_d + p_t_d_complement * p_d_complement\n",
    "    p_d_t = (p_t_d * p_d) / p_t\n",
    "    return p_d_t\n",
    "\n",
    "p_t_d = 0.95  \n",
    "p_d = 0.01  \n",
    "p_t_d_complement = 0.05 \n",
    "p_d_complement = 0.99  \n",
    "\n",
    "p_d_t = bayes_theorem(p_t_d, p_d, p_t_d_complement, p_d_complement)\n",
    "print(f\"患病的概率：{p_d_t:.3f}\")\n",
    "\n",
    "p_t_d = 0.99  \n",
    "p_d = 0.01  \n",
    "p_t_d_complement = 0.05 \n",
    "p_d_complement = 0.99  \n",
    "\n",
    "\n",
    "p_d_t = bayes_theorem(p_t_d, p_d, p_t_d_complement, p_d_complement)\n",
    "print(f\"患病的概率：{p_d_t:.3f}\")\n",
    "#23\n",
    "p_t_d = 0.97  \n",
    "p_d = 0.005  \n",
    "p_t_d_complement = 0.05  \n",
    "p_d_complement = 0.995  \n",
    "\n",
    "p_d_t = bayes_theorem(p_t_d, p_d, p_t_d_complement, p_d_complement)\n",
    "print(f\"药物使用者的概率：{p_d_t:.3f}\")\n"
   ],
   "id": "50c5bb70219eb72a",
   "execution_count": 21,
   "outputs": []
  }
 ],
 "metadata": {
  "kernelspec": {
   "display_name": "Python 3",
   "language": "python",
   "name": "python3"
  },
  "language_info": {
   "codemirror_mode": {
    "name": "ipython",
    "version": 2
   },
   "file_extension": ".py",
   "mimetype": "text/x-python",
   "name": "python",
   "nbconvert_exporter": "python",
   "pygments_lexer": "ipython2",
   "version": "2.7.6"
  }
 },
 "nbformat": 4,
 "nbformat_minor": 5
}
