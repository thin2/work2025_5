{
 "cells": [
  {
   "cell_type": "code",
   "id": "initial_id",
   "metadata": {
    "collapsed": true,
    "ExecuteTime": {
     "end_time": "2025-03-08T03:29:45.464724Z",
     "start_time": "2025-03-08T03:29:45.456724Z"
    }
   },
   "source": [
    "book_title = \"网络导论\"\n",
    "print(book_title)\n",
    "book_title = \"媒体导论\"\n",
    "print(book_title)"
   ],
   "execution_count": 1,
   "outputs": []
  },
  {
   "metadata": {
    "ExecuteTime": {
     "end_time": "2025-03-08T03:29:45.479381Z",
     "start_time": "2025-03-08T03:29:45.473381Z"
    }
   },
   "cell_type": "code",
   "source": [
    "book_title = \"Python编程基础\"\n",
    "borrower = \"Alex\"\n",
    "print(f\"{borrower} 借阅了《{book_title}》\")"
   ],
   "id": "1f708c5a6f75c6ed",
   "execution_count": 2,
   "outputs": []
  },
  {
   "metadata": {
    "ExecuteTime": {
     "end_time": "2025-03-08T03:29:45.485415Z",
     "start_time": "2025-03-08T03:29:45.480900Z"
    }
   },
   "cell_type": "code",
   "source": [
    "name = \"LiangChen\"\n",
    "print(name.upper())  # 全部大写\n",
    "print(name.lower())  # 全部小写\n",
    "print(name.title())  # 每个单词首字母大写"
   ],
   "id": "3b41cef20e13c056",
   "execution_count": 3,
   "outputs": []
  },
  {
   "metadata": {
    "ExecuteTime": {
     "end_time": "2025-03-08T03:29:45.492868Z",
     "start_time": "2025-03-08T03:29:45.487425Z"
    }
   },
   "cell_type": "code",
   "source": [
    "famous_person = \"Michael Buckland\"\n",
    "quote = \"Information retrieval is a fundamental aspect of network and media science.\"\n",
    "print(f'{famous_person} once said, \"{quote}\"')"
   ],
   "id": "a4fd71174ccde501",
   "execution_count": 4,
   "outputs": []
  },
  {
   "metadata": {
    "ExecuteTime": {
     "end_time": "2025-03-08T03:29:45.501033Z",
     "start_time": "2025-03-08T03:29:45.494877Z"
    }
   },
   "cell_type": "code",
   "source": [
    "expert_name = \"   Michael Buckland   \"\n",
    "print(expert_name)  # 显示空白\n",
    "print(expert_name.strip())  # 去除空白\n",
    "print(expert_name.rstrip())  # 去除末尾空白\n",
    "print(expert_name.lstrip())  # 去除开头空白\n",
    "\n"
   ],
   "id": "de5411f07706f754",
   "execution_count": 5,
   "outputs": []
  },
  {
   "metadata": {
    "ExecuteTime": {
     "end_time": "2025-03-08T03:29:45.510999Z",
     "start_time": "2025-03-08T03:29:45.505043Z"
    }
   },
   "cell_type": "code",
   "source": [
    "\n",
    "\n",
    "# 任务6：处理文件名\n",
    "filename = \"draft_项目计划.docx\"\n",
    "new_filename = filename.replace(\"draft_\", \"\")\n",
    "print(new_filename)\n",
    "\n"
   ],
   "id": "94508c72f98621ff",
   "execution_count": 6,
   "outputs": []
  },
  {
   "metadata": {
    "ExecuteTime": {
     "end_time": "2025-03-08T03:29:45.517852Z",
     "start_time": "2025-03-08T03:29:45.513022Z"
    }
   },
   "cell_type": "code",
   "source": [
    "\n",
    "\n",
    "# 任务7：数学表达式\n",
    "print((1 + 7))  # 加法\n",
    "print((15 - 7))  # 减法\n",
    "print((2 * 4))  # 乘法\n",
    "print((24 / 3))  # 除法\n",
    "\n"
   ],
   "id": "939178897f35f36",
   "execution_count": 7,
   "outputs": []
  },
  {
   "metadata": {
    "ExecuteTime": {
     "end_time": "2025-03-08T03:29:45.528835Z",
     "start_time": "2025-03-08T03:29:45.518859Z"
    }
   },
   "cell_type": "code",
   "source": [
    "\n",
    "\n",
    "# 任务8：添加注释\n",
    "\"\"\"\n",
    "这是一个简单的程序，用于演示如何处理和打印信息。\n",
    "作者：Kimi\n",
    "日期：2025年3月8日\n",
    "功能：展示基本的字符串处理和数学运算。\n",
    "\"\"\""
   ],
   "id": "5b9f419968c13cb6",
   "execution_count": 8,
   "outputs": []
  },
  {
   "metadata": {
    "ExecuteTime": {
     "end_time": "2025-03-08T03:44:33.393993Z",
     "start_time": "2025-03-08T03:44:33.379619Z"
    }
   },
   "cell_type": "code",
   "source": [
    "# 偶像练习生比赛数据统计程序\n",
    "\n",
    "# 练习生的基本信息\n",
    "students = [\n",
    "    [\"张三\", \"001\", 180, True],  # 姓名，编号，身高，是否首发\n",
    "    [\"李四\", \"002\", 175, False],\n",
    "    [\"王五\", \"003\", 178, True],\n",
    "]\n",
    "\n",
    "# 练习生的市场评级次数和合格次数\n",
    "ratings = [\n",
    "    [3, 2],  # 评级次数，合格次数\n",
    "    [2, 1],\n",
    "    [4, 3],\n",
    "]\n",
    "\n",
    "# 输出练习生的基本信息\n",
    "for i in range(len(students)):\n",
    "    print(f\"姓名：{students[i][0]}, 编号：{students[i][1]}, 身高：{students[i][2]}cm, 是否首发：{'是' if students[i][3] else '否'}\")\n",
    "\n",
    "# 计算市场合格率并评价\n",
    "for i in range(len(ratings)):\n",
    "    rating_count = ratings[i][0]\n",
    "    qualified_count = ratings[i][1]\n",
    "    qualification_rate = qualified_count / rating_count if rating_count > 0 else 0\n",
    "    print(f\"练习生编号 {students[i][1]} 的市场评级次数：{rating_count}, 合格次数：{qualified_count}, 合格率：{qualification_rate:.2%}\")\n",
    "    if qualification_rate >= 0.8:\n",
    "        print(\"评价：表现优秀\")\n",
    "    elif qualification_rate >= 0.5:\n",
    "        print(\"评价：表现良好\")\n",
    "    else:\n",
    "        print(\"评价：需要努力\")\n",
    "        "
   ],
   "id": "f3a923c629a17efc",
   "execution_count": 9,
   "outputs": []
  },
  {
   "metadata": {
    "ExecuteTime": {
     "end_time": "2025-03-08T07:55:56.460568Z",
     "start_time": "2025-03-08T07:55:56.423109Z"
    }
   },
   "cell_type": "code",
   "source": [
    "total_qualified = sum(r[1] for r in ratings)\n",
    "total_ratings = sum(r[0] for r in ratings)\n",
    "average_qualification_rate = total_qualified / total_ratings if total_ratings > 0 else 0\n",
    "print(f\"所有练习生的平均合格率：{average_qualification_rate:.2%}\")"
   ],
   "id": "79c575013f2db661",
   "execution_count": 10,
   "outputs": []
  },
  {
   "metadata": {},
   "cell_type": "code",
   "execution_count": null,
   "source": "",
   "id": "dc672b1f6d82d829",
   "outputs": []
  },
  {
   "metadata": {
    "ExecuteTime": {
     "end_time": "2025-03-13T14:09:08.872912Z",
     "start_time": "2025-03-13T14:09:06.665743Z"
    }
   },
   "cell_type": "code",
   "source": [
    "import numpy as np\n",
    "import matplotlib.pyplot as plt\n",
    "plt.rcParams['font.sans-serif'] = ['SimHei']\n",
    "plt.rcParams['axes.unicode_minus'] = False\n",
    "# 定义激活函数及其导数\n",
    "def silu(x):\n",
    "    return x / (1 + np.exp(-x))\n",
    "\n",
    "def silu_derivative(x):\n",
    "    sig = 1 / (1 + np.exp(-x))\n",
    "    return sig * (1 + x * (1 - sig))\n",
    "\n",
    "def relu(x):\n",
    "    return np.maximum(0, x)\n",
    "\n",
    "def relu_derivative(x):\n",
    "    return np.where(x > 0, 1, 0)\n",
    "\n",
    "def leaky_relu(x, alpha=0.01):\n",
    "    return np.where(x >= 0, x, alpha * x)\n",
    "\n",
    "def leaky_relu_derivative(x, alpha=0.01):\n",
    "    return np.where(x > 0, 1, alpha)\n",
    "\n",
    "def tanh(x):\n",
    "    return np.tanh(x)\n",
    "\n",
    "def tanh_derivative(x):\n",
    "    return 1 - np.tanh(x)**2\n",
    "\n",
    "def sigmoid(x):\n",
    "    return 1 / (1 + np.exp(-x))\n",
    "\n",
    "def sigmoid_derivative(x):\n",
    "    sig = sigmoid(x)\n",
    "    return sig * (1 - sig)\n",
    "\n",
    "# 定义绘图函数\n",
    "def plot_activation_function(func, derivative_func, x_range, title, xlabel='x', ylabel='y'):\n",
    "    x = np.linspace(x_range[0], x_range[1], 1000)\n",
    "    y = func(x)\n",
    "    y_derivative = derivative_func(x)\n",
    "    \n",
    "    plt.figure(figsize=(8, 4))\n",
    "    plt.plot(x, y, label=title)\n",
    "    plt.plot(x, y_derivative, label=f'{title}导数', linestyle='--')\n",
    "    plt.title(title)\n",
    "    plt.xlabel(xlabel)\n",
    "    plt.ylabel(ylabel)\n",
    "    plt.legend()\n",
    "    plt.grid(True)\n",
    "    plt.axhline(0, color='black', linewidth=0.5, linestyle='--')\n",
    "    plt.axvline(0, color='black', linewidth=0.5, linestyle='--')\n",
    "    plt.show()\n",
    "\n",
    "# 绘制五种激活函数\n",
    "plot_activation_function(silu, silu_derivative, (-5, 2), 'SiLU')\n",
    "plot_activation_function(relu, relu_derivative, (-2, 2), 'ReLU')\n",
    "plot_activation_function(lambda x: leaky_relu(x, 0.01), lambda x: leaky_relu_derivative(x, 0.01), (-5, 2), 'LeakyReLU')\n",
    "plot_activation_function(tanh, tanh_derivative, (-5, 5), 'Tanh')\n",
    "plot_activation_function(sigmoid, sigmoid_derivative, (-5, 5), 'Sigmoid')"
   ],
   "id": "a4584a6224577df1",
   "execution_count": 5,
   "outputs": []
  },
  {
   "metadata": {
    "ExecuteTime": {
     "end_time": "2025-03-14T04:57:41.643084Z",
     "start_time": "2025-03-14T04:57:41.596280Z"
    }
   },
   "cell_type": "code",
   "source": [
    "import numpy as np\n",
    "import pandas as pd\n",
    "import matplotlib.pyplot as plt\n",
    "from sklearn.datasets import fetch_california_housing\n",
    "from sklearn.model_selection import train_test_split\n",
    "from sklearn.preprocessing import StandardScaler\n",
    "from sklearn.linear_model import LinearRegression\n",
    "from sklearn.metrics import mean_squared_error, r2_score\n",
    "import seaborn as sns\n",
    "from sklearn.datasets import fetch_california_housing\n",
    "plt.rcParams['font.sans-serif'] = ['SimHei']\n",
    "plt.rcParams['axes.unicode_minus'] = False\n",
    "\n",
    "california = fetch_california_housing(as_frame=True)\n",
    "data = california.frame"
   ],
   "id": "24a27239dc11af0a",
   "execution_count": 10,
   "outputs": []
  },
  {
   "metadata": {
    "ExecuteTime": {
     "end_time": "2025-03-14T04:57:48.018982Z",
     "start_time": "2025-03-14T04:57:47.945589Z"
    }
   },
   "cell_type": "code",
   "source": "data.describe()",
   "id": "132f7d96d70fa691",
   "execution_count": 11,
   "outputs": []
  },
  {
   "metadata": {
    "ExecuteTime": {
     "end_time": "2025-03-14T04:57:54.079411Z",
     "start_time": "2025-03-14T04:57:51.936413Z"
    }
   },
   "cell_type": "code",
   "source": [
    "\n",
    "plt.figure(figsize=(10, 8))\n",
    "correlation_matrix = data.corr()\n",
    "sns.heatmap(correlation_matrix, annot=True, cmap='coolwarm', fmt='.2f', linewidths=0.5)\n",
    "plt.title('特征相关系数热力图')\n",
    "plt.show()\n",
    "\n",
    "plt.figure(figsize=(10, 6))\n",
    "plt.hist(data['MedHouseVal'], bins=50, edgecolor='k', alpha=0.7)\n",
    "plt.xlabel('房价中位数')\n",
    "plt.ylabel('频数')\n",
    "plt.title('房价中位数分布')\n",
    "plt.show()"
   ],
   "id": "5dd4f8061077b720",
   "execution_count": 12,
   "outputs": []
  },
  {
   "metadata": {
    "ExecuteTime": {
     "end_time": "2025-03-14T04:58:00.326088Z",
     "start_time": "2025-03-14T04:57:59.762406Z"
    }
   },
   "cell_type": "code",
   "source": [
    "\n",
    "\n",
    "X = data.drop('MedHouseVal', axis=1)\n",
    "y = data['MedHouseVal']\n",
    "\n",
    "scaler = StandardScaler()\n",
    "X_scaled = scaler.fit_transform(X)\n",
    "\n",
    "X_train, X_test, y_train, y_test = train_test_split(X_scaled, y, test_size=0.2, random_state=42)\n",
    "\n",
    "model = LinearRegression()\n",
    "model.fit(X_train, y_train)\n",
    "\n",
    "y_pred = model.predict(X_test)\n",
    "mse = mean_squared_error(y_test, y_pred)\n",
    "r2 = r2_score(y_test, y_pred)\n",
    "print(f'MSE: {mse:.2f}')\n",
    "print(f'R²: {r2:.2f}')\n",
    "\n",
    "plt.scatter(y_test, y_pred, alpha=0.3)\n",
    "plt.plot([y_test.min(), y_test.max()], [y_test.min(), y_test.max()], 'k--', lw=2)\n",
    "plt.xlabel('实际值')\n",
    "plt.ylabel('预测值')\n",
    "plt.title('实际值 vs 预测值')\n",
    "plt.show()\n"
   ],
   "id": "2436e1ea8a1f61ca",
   "execution_count": 13,
   "outputs": []
  },
  {
   "metadata": {},
   "cell_type": "code",
   "execution_count": null,
   "source": "",
   "id": "d5c32ac01e3c7e29",
   "outputs": []
  }
 ],
 "metadata": {
  "kernelspec": {
   "display_name": "Python 3",
   "language": "python",
   "name": "python3"
  },
  "language_info": {
   "codemirror_mode": {
    "name": "ipython",
    "version": 2
   },
   "file_extension": ".py",
   "mimetype": "text/x-python",
   "name": "python",
   "nbconvert_exporter": "python",
   "pygments_lexer": "ipython2",
   "version": "2.7.6"
  }
 },
 "nbformat": 4,
 "nbformat_minor": 5
}
