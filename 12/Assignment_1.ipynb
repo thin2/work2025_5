{
 "cells": [
  {
   "cell_type": "markdown",
   "id": "4f13ba63",
   "metadata": {},
   "source": [
    "# Assignment 1 - Your Name - QMUL Student ID"
   ]
  },
  {
   "cell_type": "markdown",
   "id": "dbf8cbe6-156a-48ef-a6f0-78d465ac5325",
   "metadata": {},
   "source": [
    "### `TASK 1: edit the header`\n",
    "\n",
    "Edit the cell above to change \"Your Name\" to your name and \"QMUL Student ID\" to your QMUL student ID.\n",
    "\n",
    "Tip: to edit a markdown cell, double click it."
   ]
  },
  {
   "cell_type": "markdown",
   "id": "6f257621",
   "metadata": {},
   "source": [
    "### `Instructions`\n",
    "\n",
    "Please read these instructions carefully. It is your responsibility to read and understand them all. If you have any questions, please email Jordan ASAP; he will not have time to help you if you email at the last minute!\n",
    "\n",
    "#### What you will do\n",
    "\n",
    "You will **load, clean, describe, analyse** and **discuss** a dataset.\n",
    "\n",
    "For some tasks, you need to **write code**. For other tasks, you need to **describe in words some aspect of the data or your approach.**\n",
    "\n",
    "In all tasks, your answers **must be your own work and your own writing**. Do not use services like DeepSeek or ChatGPT to write answers for you.\n",
    "\n",
    "#### Evaluation\n",
    "\n",
    "The assignment is worth 18% of your grade.\n",
    "\n",
    "Your submission will be evaluated based on:\n",
    "\n",
    "1. The correctness of the code: does it perform the tasks correctly?\n",
    "2. The quality of your explanations: do you explain things clearly, in a logical order? Do you explain them succinctly, avoiding irrelevant detail?\n",
    "\n",
    "The assignment is graded out of 90 points total. The weight of each task in points is indicated like this:\n",
    "\n",
    "> `Task 3: describe the dataset` (5 points)\n",
    "\n",
    "#### Writing\n",
    "\n",
    "In QHF3004 and QHF3005, you have learned how to describe and explain graphs, figures and processes in clear terms. Draw on these skills as you complete this assignment!\n",
    "\n",
    "#### Submission\n",
    "\n",
    "The deadline is May 1st. You thus have a little over 1 week to prepare and submit the assignment.\n",
    "\n",
    "When you have finished editing your `.ipynb` file, upload it to the QMplus submission point.\n",
    "- NB: you cannot upload an altered version of `people_data.csv`; your code *must* work using the original `people_data.csv` file.\n",
    "\n",
    "Remember to:\n",
    "- [ ] Include your name and QMUL student ID in the header above;\n",
    "- [ ] Double check that your notebook runs smoothly from a **fresh kernel**;\n",
    "\t- Tip: use the menu option `Kernel > Restart Kernel and Run All Cells...`\n",
    "- [ ] Sign the declaration at the bottom of the notebook by ticking the checkboxes."
   ]
  },
  {
   "cell_type": "markdown",
   "id": "1229f5b2-6ac8-4e33-b2d4-5bfb4f3c85e5",
   "metadata": {},
   "source": [
    "### `Task 2: load the data` (0 points)\n",
    "\n",
    "This section is not worth any points, since we provide the code for you. However, it is essential to run this section — you need to have the data to analyse it later!\n",
    "\n",
    "#### `Task 2.1: load the full dataset`"
   ]
  },
  {
   "cell_type": "code",
   "id": "7a0124e2",
   "metadata": {
    "ExecuteTime": {
     "end_time": "2025-04-29T17:37:09.074930Z",
     "start_time": "2025-04-29T17:37:09.068696Z"
    }
   },
   "source": [
    "# Import packages\n",
    "import os\n",
    "import numpy as np\n",
    "import matplotlib.pyplot as plt\n",
    "import pandas as pd"
   ],
   "outputs": [],
   "execution_count": 98
  },
  {
   "cell_type": "code",
   "id": "7775a99c-6dad-44f1-ab61-b4d8abd4bc36",
   "metadata": {
    "ExecuteTime": {
     "end_time": "2025-04-29T17:37:11.360145Z",
     "start_time": "2025-04-29T17:37:11.242775Z"
    }
   },
   "source": [
    "# Make sure the data file is in your current folder, so that you can read it.\n",
    "filename = \"./people_data.csv\"  # CHANGE THIS LINE AS NEEDED SO THAT YOU CAN READ THE FILE\n",
    "\n",
    "# Read the data as a pandas DataFrame\n",
    "data_pd = pd.read_csv(filename, index_col=0)\n",
    "\n",
    "# Print the first 5 rows of the data to verify that it loaded correctly.\n",
    "data_pd.head(5)"
   ],
   "outputs": [
    {
     "data": {
      "text/plain": [
       "  user_id person_id   age  height  n_strokes      province    education  \\\n",
       "0    U000        P1  19.0   173.0       29.0      Shandong  High School   \n",
       "1    U000        P2  18.0   190.0       24.0       Jiangsu  High School   \n",
       "2    U000        P3  18.0   192.0       15.0         Hubei  High School   \n",
       "3    U000        P4  18.0   177.0       20.0      Shandong  High School   \n",
       "4    U000        P5  19.0   173.0       36.0  Heilongjiang  High School   \n",
       "\n",
       "   n_languages volleyball table_tennis      favourite_movie  \n",
       "0          2.0      FALSE         TRUE            your name  \n",
       "1          2.0       TRUE         TRUE         Harry Potter  \n",
       "2          2.0       TRUE         TRUE         12 Angry Men  \n",
       "3          2.0      FALSE         TRUE  Weathering with you  \n",
       "4          2.0      FALSE         TRUE             Twilight  "
      ],
      "text/html": [
       "<div>\n",
       "<style scoped>\n",
       "    .dataframe tbody tr th:only-of-type {\n",
       "        vertical-align: middle;\n",
       "    }\n",
       "\n",
       "    .dataframe tbody tr th {\n",
       "        vertical-align: top;\n",
       "    }\n",
       "\n",
       "    .dataframe thead th {\n",
       "        text-align: right;\n",
       "    }\n",
       "</style>\n",
       "<table border=\"1\" class=\"dataframe\">\n",
       "  <thead>\n",
       "    <tr style=\"text-align: right;\">\n",
       "      <th></th>\n",
       "      <th>user_id</th>\n",
       "      <th>person_id</th>\n",
       "      <th>age</th>\n",
       "      <th>height</th>\n",
       "      <th>n_strokes</th>\n",
       "      <th>province</th>\n",
       "      <th>education</th>\n",
       "      <th>n_languages</th>\n",
       "      <th>volleyball</th>\n",
       "      <th>table_tennis</th>\n",
       "      <th>favourite_movie</th>\n",
       "    </tr>\n",
       "  </thead>\n",
       "  <tbody>\n",
       "    <tr>\n",
       "      <th>0</th>\n",
       "      <td>U000</td>\n",
       "      <td>P1</td>\n",
       "      <td>19.0</td>\n",
       "      <td>173.0</td>\n",
       "      <td>29.0</td>\n",
       "      <td>Shandong</td>\n",
       "      <td>High School</td>\n",
       "      <td>2.0</td>\n",
       "      <td>FALSE</td>\n",
       "      <td>TRUE</td>\n",
       "      <td>your name</td>\n",
       "    </tr>\n",
       "    <tr>\n",
       "      <th>1</th>\n",
       "      <td>U000</td>\n",
       "      <td>P2</td>\n",
       "      <td>18.0</td>\n",
       "      <td>190.0</td>\n",
       "      <td>24.0</td>\n",
       "      <td>Jiangsu</td>\n",
       "      <td>High School</td>\n",
       "      <td>2.0</td>\n",
       "      <td>TRUE</td>\n",
       "      <td>TRUE</td>\n",
       "      <td>Harry Potter</td>\n",
       "    </tr>\n",
       "    <tr>\n",
       "      <th>2</th>\n",
       "      <td>U000</td>\n",
       "      <td>P3</td>\n",
       "      <td>18.0</td>\n",
       "      <td>192.0</td>\n",
       "      <td>15.0</td>\n",
       "      <td>Hubei</td>\n",
       "      <td>High School</td>\n",
       "      <td>2.0</td>\n",
       "      <td>TRUE</td>\n",
       "      <td>TRUE</td>\n",
       "      <td>12 Angry Men</td>\n",
       "    </tr>\n",
       "    <tr>\n",
       "      <th>3</th>\n",
       "      <td>U000</td>\n",
       "      <td>P4</td>\n",
       "      <td>18.0</td>\n",
       "      <td>177.0</td>\n",
       "      <td>20.0</td>\n",
       "      <td>Shandong</td>\n",
       "      <td>High School</td>\n",
       "      <td>2.0</td>\n",
       "      <td>FALSE</td>\n",
       "      <td>TRUE</td>\n",
       "      <td>Weathering with you</td>\n",
       "    </tr>\n",
       "    <tr>\n",
       "      <th>4</th>\n",
       "      <td>U000</td>\n",
       "      <td>P5</td>\n",
       "      <td>19.0</td>\n",
       "      <td>173.0</td>\n",
       "      <td>36.0</td>\n",
       "      <td>Heilongjiang</td>\n",
       "      <td>High School</td>\n",
       "      <td>2.0</td>\n",
       "      <td>FALSE</td>\n",
       "      <td>TRUE</td>\n",
       "      <td>Twilight</td>\n",
       "    </tr>\n",
       "  </tbody>\n",
       "</table>\n",
       "</div>"
      ]
     },
     "execution_count": 99,
     "metadata": {},
     "output_type": "execute_result"
    }
   ],
   "execution_count": 99
  },
  {
   "cell_type": "markdown",
   "id": "d2fcb2f1-6b72-4867-a185-5568be9b5028",
   "metadata": {},
   "source": [
    "#### `Task 2.2: remove your entries`\n",
    "\n",
    "The data were collected by you, the students of QHP4701. For your assignment, you should not study the data that you personally collected. In this section, you will delete your entries from the dataset.\n",
    "\n",
    "All of the entries submitted by one student are indicated by the same `user_id`, which is a value ranging from `U000` to `U144`. For example, the student corresponding to `U000` uploaded the first five rows in the dataset.\n",
    "\n",
    "**IMPORTANT**: change the line below so that `my_code` is *your* code. To see what your code is based on your student ID, look at `UserID_assignments.csv`."
   ]
  },
  {
   "cell_type": "code",
   "id": "fcaf2166-6d9c-4c05-bfe2-911b13eda0f3",
   "metadata": {
    "ExecuteTime": {
     "end_time": "2025-04-29T17:37:14.544674Z",
     "start_time": "2025-04-29T17:37:14.532950Z"
    }
   },
   "source": [
    "my_code = 'U070'  # CHANGE THIS LINE TO YOUR CODE\n",
    "\n",
    "my_entries_data = data_pd[data_pd.user_id==my_code]\n",
    "kept_data = data_pd[data_pd.user_id!=my_code]\n",
    "\n",
    "print(\"Shape of remaining data: \", kept_data.shape)\n",
    "print(\"Shape of removed data: \", my_entries_data.shape)"
   ],
   "outputs": [
    {
     "name": "stdout",
     "output_type": "stream",
     "text": [
      "Shape of remaining data:  (801, 11)\n",
      "Shape of removed data:  (6, 11)\n"
     ]
    }
   ],
   "execution_count": 100
  },
  {
   "cell_type": "code",
   "id": "7d0b8b7a-124f-4076-ac2d-90d9f3b36b66",
   "metadata": {
    "ExecuteTime": {
     "end_time": "2025-04-29T17:37:17.768657Z",
     "start_time": "2025-04-29T17:37:17.757659Z"
    }
   },
   "source": [
    "# Double check that none of your entries remain.\n",
    "assert my_code not in data_pd.user_id"
   ],
   "outputs": [],
   "execution_count": 101
  },
  {
   "cell_type": "code",
   "id": "4ad2e39f-e638-491e-91f9-9fc468f9e9ed",
   "metadata": {
    "ExecuteTime": {
     "end_time": "2025-04-29T17:37:20.116520Z",
     "start_time": "2025-04-29T17:37:20.104203Z"
    }
   },
   "source": [
    "# Cast `data` to a numpy array, and delete pandas from the workspace.\n",
    "del pd\n",
    "columns = kept_data.columns\n",
    "data = np.array(kept_data)\n",
    "print(type(data))\n",
    "print(data[:5])\n",
    "assert isinstance(data, np.ndarray)"
   ],
   "outputs": [
    {
     "name": "stdout",
     "output_type": "stream",
     "text": [
      "<class 'numpy.ndarray'>\n",
      "[['U000' 'P1' 19.0 173.0 29.0 'Shandong' 'High School' 2.0 'FALSE' 'TRUE'\n",
      "  'your name']\n",
      " ['U000' 'P2' 18.0 190.0 24.0 'Jiangsu' 'High School' 2.0 'TRUE' 'TRUE'\n",
      "  'Harry Potter']\n",
      " ['U000' 'P3' 18.0 192.0 15.0 'Hubei' 'High School' 2.0 'TRUE' 'TRUE'\n",
      "  '12 Angry Men']\n",
      " ['U000' 'P4' 18.0 177.0 20.0 'Shandong' 'High School' 2.0 'FALSE' 'TRUE'\n",
      "  'Weathering with you']\n",
      " ['U000' 'P5' 19.0 173.0 36.0 'Heilongjiang' 'High School' 2.0 'FALSE'\n",
      "  'TRUE' 'Twilight']]\n"
     ]
    }
   ],
   "execution_count": 102
  },
  {
   "cell_type": "markdown",
   "id": "0ac13026-7b12-42ab-81e1-75a637d4cf95",
   "metadata": {},
   "source": [
    "Checklist so far:\n",
    "\n",
    "- [ ] I used pandas to load the data in the original, unaltered CSV file.\n",
    "- [ ] I used my user ID (in the variable `my_code`) to delete the rows that I contributed (if any).\n",
    "- [ ] I deleted pandas from the workspace.\n",
    "- [ ] The dataset is stored in the variable `data`, it has type numpy.ndarray, and **I will use numpy for the rest of this worksheet.**"
   ]
  },
  {
   "cell_type": "markdown",
   "id": "ee0b8354",
   "metadata": {
    "heading_collapsed": true
   },
   "source": [
    "### `Task 3: describe the dataset` (5 points)"
   ]
  },
  {
   "cell_type": "markdown",
   "id": "145390de",
   "metadata": {
    "hidden": true
   },
   "source": [
    "**Describe the collected dataset in a paragraph (50–100 words).** You might address: how was it collected? Who collected it? What does each row indicate? What was the purpose of collecting the data? What are some interesting aspects of the data?\n",
    "\n",
    "A data scientist must understand the data they deal with. Since you were involved in the data collection process and should have contributed to it, you should have the insight needed to answer the question above."
   ]
  },
  {
   "cell_type": "raw",
   "id": "744d1aca",
   "metadata": {
    "hidden": true
   },
   "source": [
    "Your explanation for task 3:\n",
    "----------------------------\n",
    "\n",
    "\n",
    "\n",
    "\n",
    "\n",
    "\n",
    "\n",
    "\n",
    "\n"
   ]
  },
  {
   "cell_type": "markdown",
   "id": "fcef6d2c",
   "metadata": {
    "heading_collapsed": true
   },
   "source": [
    "### `Task 4: clean the data` (15 points)"
   ]
  },
  {
   "cell_type": "markdown",
   "id": "d2693808",
   "metadata": {
    "hidden": true
   },
   "source": [
    "A data set, when it is loaded, is sometimes called a \"raw\" dataset. It is expected that the raw data may have many issues: some values may not be the correct data type; some values may be invalid; some values may be missing.\n",
    "\n",
    "Your task is to **clean the dataset.** Ensure that each column in the dataset has the correct format and that its values have the appropriate range.\n",
    "\n",
    "The correct format of each column was specified in `task_1_instructions.pdf` (See \"Task 1: Data Collection Instructions\" in the Assessment tab of the QMplus page.)\n",
    "\n",
    "<div style=\"background: pink; margin: 2em; padding: 1em;\">\n",
    "    <p><strong>When your notebook is assessed, your code will be re-run using the original CSV file. Therefore:</strong></p>\n",
    "    <p>All of the steps you write to clean the data must be done using Python commands.</p>\n",
    "    <p>Do NOT change any values in the CSV file. Instead, write commands that edit the data array here in the notebook.</p>\n",
    "    <p>Using numpy is allowed but using pandas is not.</p>\n",
    "</div>\n",
    "\n",
    "The field names are listed in `columns`. They are:\n",
    "\n",
    "- `user_id` (the student who uploaded the row of data)\n",
    "- `person_id`\n",
    "- `age`\n",
    "- `height`\n",
    "- `n_strokes`\n",
    "- `province`\n",
    "- `education`\n",
    "- `n_languages`\n",
    "- `volleyball`\n",
    "- `table_tennis`\n",
    "- `favourite_movie`\n",
    "\n",
    "In this section, you will clean all of these fields."
   ]
  },
  {
   "cell_type": "markdown",
   "id": "270833f0-2305-49f5-bba8-3215a8062e96",
   "metadata": {},
   "source": [
    "#### `Task 4.1: person_id`\n",
    "\n",
    "All the values in the `person_id` column (column 2) should be P1, P2, P3, and so on. That is, it should be an uppercase \"P\" followed by a number, starting at 1 and continuing up to the number of samples submitted by each student.\n",
    "\n",
    "For each student, check if they used the correct format. If not, replace the `person_id` values with ones in the correct format."
   ]
  },
  {
   "cell_type": "markdown",
   "id": "4eb38065-7c87-435c-ab93-79430ce25ae3",
   "metadata": {},
   "source": [
    "#### `Task 4.2: age, height, strokes, number of languages`\n",
    "\n",
    "- The values in the columns `age`, `n_strokes` and `n_languages` should be integers.\n",
    "- The values in the column `height` should be floats.\n",
    "- Any of these values *may* be absent, in which case the value should be `None`.\n",
    "    - NB: this means the Python `None` object, NOT the string \"None\".\n",
    "\n",
    "If any values in these columns are not the correct format, convert them to the correct format.\n",
    "\n",
    "Also check if there are any unusual values in the column: e.g., numbers that are not plausible ages, heights, etc. If a value is impossible or implausible (e.g., `age = -10`), then it should be replaced with a `None` object."
   ]
  },
  {
   "cell_type": "markdown",
   "id": "80546a49-d19a-435e-9087-8d73c36eb2b6",
   "metadata": {},
   "source": [
    "#### `Task 4.3: volleyball, table_tennis`\n",
    "\n",
    "These two columns indicate whether the person liked volleyball and liked table tennis, respectively. The values in these columns should be booleans. However, you may notice that they are first loaded as strings.\n",
    "\n",
    "Convert the values in these columns from `\"TRUE\"`, `\"FALSE\"` and `\"NAN\"` into `True`, `False` and `None`, respectively."
   ]
  },
  {
   "cell_type": "markdown",
   "id": "f1b14bf9-fa37-4c59-9755-655b3dbbb201",
   "metadata": {},
   "source": [
    "#### `Task 4.4: province, education, favourite_movie`\n",
    "\n",
    "Since `province` and `education` were selected from drop-down menus, the format of these should already be consistent.\n",
    "\n",
    "However, for convenience, it is nice if the values in `education` are in order when sorted alphabetically. I.e., instead of the values being:\n",
    "\n",
    "    - \"Doctorate degree (PhD)\"\n",
    "    - \"High School\"\n",
    "    - \"Postgraduate/ Master’s Degree (PG)\"\n",
    "    - \"Undergraduate Degree (UG)\"\n",
    "\n",
    "Replace them with:\n",
    "\n",
    "    - \"4-Doctorate\"\n",
    "    - \"1-High School\"\n",
    "    - \"3-Postgraduate\"\n",
    "    - \"2-Undergraduate\"\n",
    "\n",
    "Lastly, the `favourite_movie` field may have issues. Look at this column to make sure the formatting is consistent. Fix any issues that you detect.\n",
    "\n",
    "For example, when using this column to see which films are most popular, you should be able to detect that `Titanic`, `\"Titanic\"`, and ` Titanic \"` all indicate the same film. Therefore, you should process the values in this column so that extra quotation marks and spaces are removed. What other adjustments might you make?"
   ]
  },
  {
   "cell_type": "markdown",
   "id": "2fd0ae62",
   "metadata": {
    "hidden": true
   },
   "source": [
    "#### YOUR CODE\n",
    "\n",
    "Write code to handle all the data cleaning tasks in this section (4.1–4.4)."
   ]
  },
  {
   "cell_type": "code",
   "id": "e91eadd8",
   "metadata": {
    "hidden": true,
    "ExecuteTime": {
     "end_time": "2025-04-29T17:37:29.405004Z",
     "start_time": "2025-04-29T17:37:29.400664Z"
    }
   },
   "source": "person_ids = [f'P{i+1}' for i in range(len(data))]\n",
   "outputs": [],
   "execution_count": 103
  },
  {
   "cell_type": "code",
   "id": "566d791e",
   "metadata": {
    "hidden": true,
    "ExecuteTime": {
     "end_time": "2025-04-29T17:37:31.529929Z",
     "start_time": "2025-04-29T17:37:31.515738Z"
    }
   },
   "source": [
    "ages = []\n",
    "heights = []\n",
    "n_strokes_list = []\n",
    "n_languages_list = []\n",
    "\n",
    "for row in data:\n",
    "    try:\n",
    "        age = int(row[2])\n",
    "        ages.append(age if 0 < age < 120 else None)\n",
    "    except:\n",
    "        ages.append(None)\n",
    "\n",
    "    try:\n",
    "        height = float(row[3])\n",
    "        heights.append(height if 100 < height < 250 else None)\n",
    "    except:\n",
    "        heights.append(None)\n",
    "\n",
    "    try:\n",
    "        strokes = int(row[4])\n",
    "        n_strokes_list.append(strokes if 0 <= strokes < 100 else None)\n",
    "    except:\n",
    "        n_strokes_list.append(None)\n",
    "\n",
    "    try:\n",
    "        n_lang = int(row[7])\n",
    "        n_languages_list.append(n_lang if 0 <= n_lang <= 20 else None)\n",
    "    except:\n",
    "        n_languages_list.append(None)\n"
   ],
   "outputs": [],
   "execution_count": 104
  },
  {
   "cell_type": "code",
   "id": "dc2b1bac",
   "metadata": {
    "hidden": true,
    "ExecuteTime": {
     "end_time": "2025-04-29T17:37:34.915608Z",
     "start_time": "2025-04-29T17:37:34.901151Z"
    }
   },
   "source": [
    "volleyballs = []\n",
    "table_tennises = []\n",
    "for row in data:\n",
    "    v = row[8].strip().lower()\n",
    "    if v == \"true\":\n",
    "        volleyballs.append(True)\n",
    "    elif v == \"false\":\n",
    "        volleyballs.append(False)\n",
    "    else:\n",
    "        volleyballs.append(None)\n",
    "\n",
    "    t = row[9].strip().lower()\n",
    "    if t == \"true\":\n",
    "        table_tennises.append(True)\n",
    "    elif t == \"false\":\n",
    "        table_tennises.append(False)\n",
    "    else:\n",
    "        table_tennises.append(None)\n"
   ],
   "outputs": [],
   "execution_count": 105
  },
  {
   "cell_type": "code",
   "id": "bb15cf97",
   "metadata": {
    "hidden": true,
    "ExecuteTime": {
     "end_time": "2025-04-29T17:37:37.675943Z",
     "start_time": "2025-04-29T17:37:37.663949Z"
    }
   },
   "source": [
    "provinces = []\n",
    "educations = []\n",
    "favourite_movies = []\n",
    "\n",
    "EDUMAP= {\n",
    "    \"High School\": \"1-High School\",\n",
    "    \"Undergraduate Degree (UG)\": \"2-Undergraduate\",\n",
    "    \"Postgraduate/ Master’s Degree (PG)\": \"3-Postgraduate\",\n",
    "    \"Doctorate degree (PhD)\": \"4-Doctorate\"\n",
    "}\n",
    "\n",
    "for row in data:\n",
    "    try:\n",
    "        prov = row[5].strip()\n",
    "        provinces.append(prov if prov else None)\n",
    "    except:\n",
    "        provinces.append(None)\n",
    "    try:\n",
    "        edu = row[6].strip()\n",
    "        educations.append(EDUMAP.get(edu, None))\n",
    "    except:\n",
    "        educations.append(None)\n",
    "    try:\n",
    "        movie = str(row[10]).strip().strip('\"').strip().lower().capitalize()\n",
    "        favourite_movies.append(movie if movie else None)\n",
    "    except:\n",
    "        favourite_movies.append(None)\n"
   ],
   "outputs": [],
   "execution_count": 106
  },
  {
   "metadata": {
    "ExecuteTime": {
     "end_time": "2025-04-29T17:37:40.398225Z",
     "start_time": "2025-04-29T17:37:40.386015Z"
    }
   },
   "cell_type": "code",
   "source": [
    "user_ids = data[:, 0]\n",
    "\n",
    "clean_data = np.array([\n",
    "    [\n",
    "        user_ids[i],\n",
    "        person_ids[i],\n",
    "        ages[i],\n",
    "        heights[i],\n",
    "        n_strokes_list[i],\n",
    "        provinces[i],\n",
    "        educations[i],\n",
    "        n_languages_list[i],\n",
    "        volleyballs[i],\n",
    "        table_tennises[i],\n",
    "        favourite_movies[i]\n",
    "    ]\n",
    "    for i in range(len(data))\n",
    "], dtype=object)\n"
   ],
   "id": "151cba8f925aed4d",
   "outputs": [],
   "execution_count": 107
  },
  {
   "cell_type": "code",
   "execution_count": null,
   "id": "7a50ea8c",
   "metadata": {
    "hidden": true
   },
   "outputs": [],
   "source": []
  },
  {
   "cell_type": "markdown",
   "id": "ae0f2b09",
   "metadata": {
    "hidden": true
   },
   "source": [
    "#### YOUR EXPLANATION\n",
    "\n",
    "Explain all the issues you observed in the data and and what actions you have taken to clean it."
   ]
  },
  {
   "cell_type": "raw",
   "id": "4cf7ad46",
   "metadata": {
    "hidden": true
   },
   "source": [
    "Your explanation for task 4:\n",
    "----------------------------\n",
    "\n",
    "\n",
    "\n",
    "\n",
    "\n",
    "\n",
    "\n",
    "\n",
    "\n",
    "\n",
    "\n"
   ]
  },
  {
   "cell_type": "markdown",
   "id": "bb35bb8f",
   "metadata": {
    "heading_collapsed": true
   },
   "source": [
    "### `Task 5: create summary functions` (10 points)\n",
    "\n",
    "Write three functions, including docstrings, that are capable of (1) summing, (2) averaging and (3) taking the standard deviation of arrays. Each function must be able to *ignore **null values***: i.e., it should ignore `None` and `np.nan`. (`np.nan` is a special numpy value that stands for \"not a number\", and serves the same purpose as `None`.)\n",
    "\n",
    "You should define:\n",
    "\n",
    "- `sum_with_none`: a function that takes a list or numpy array as input and returns two values:\n",
    "    1. the sum of all the numbers in it, excluding null values; and\n",
    "    2. the number of non-null values in it.\n",
    "    - For example, `sum_with_none([1, 2, 3, None, np.nan])` should return `(6, 3)`.\n",
    "- `mean_with_none`: a function that takes a list or numpy array as input and returns the average of its non-null values.\n",
    "- `std_with_none`: a function that takes a list or numpy array as input and returns the standard deviation of its non-null values.\n",
    "\n",
    "\n",
    "Tip: you should re-use the functions you define. E.g., the code in `mean_with_none` should use the function `sum_with_none`.\n",
    "\n",
    "For each function, add a doctring that explains what the inputs should be, and what the expected output of the function is.\n",
    "\n",
    "The docstring is what you will see when you type `help(sum_with_none)`. Read the docstrings of other Python functions for examples of how to write these.\n"
   ]
  },
  {
   "cell_type": "code",
   "id": "affe9479",
   "metadata": {
    "hidden": true,
    "ExecuteTime": {
     "end_time": "2025-04-29T13:18:53.422953Z",
     "start_time": "2025-04-29T13:18:53.413460Z"
    }
   },
   "source": [
    "def sum_with_none(x):\n",
    "    cleaned = [x1 for x1 in x if x1 is not None and not (isinstance(x1, float) and np.isnan(x1))]\n",
    "    sum_x = sum(cleaned)\n",
    "    return sum_x\n",
    "\n",
    "def mean_with_none(x):\n",
    "    cleaned = [x1 for x1 in x if x1 is not None and not (isinstance(x1, float) and np.isnan(x1))]\n",
    "    mean_x = sum(cleaned)/len(cleaned)\n",
    "    return mean_x\n",
    "\n",
    "def std_with_none(x):\n",
    "    cleaned = [x1 for x1 in x if x1 is not None and not (isinstance(x1, float) and np.isnan(x1))]\n",
    "    std_x = np.std(cleaned)\n",
    "    return std_x"
   ],
   "outputs": [],
   "execution_count": 22
  },
  {
   "cell_type": "markdown",
   "id": "d5ebf4ed",
   "metadata": {
    "hidden": true
   },
   "source": [
    "#### `Test your functions`\n",
    "\n",
    "Run these examples to test whether you have correctly defined the functions."
   ]
  },
  {
   "cell_type": "code",
   "id": "139fd5da",
   "metadata": {
    "hidden": true,
    "ExecuteTime": {
     "end_time": "2025-04-29T13:18:56.069183Z",
     "start_time": "2025-04-29T13:18:56.057904Z"
    }
   },
   "source": [
    "x1 = [1,3,5,None,4, np.nan]\n",
    "\n",
    "assert sum_with_none(x1) == 13\n",
    "assert mean_with_none(x1) == 3.25\n",
    "assert std_with_none(x1) == 1.479019945774904\n",
    "\n",
    "x2 = np.array([20,10,None,10,np.nan, 30])\n",
    "\n",
    "assert sum_with_none(x2) == 70\n",
    "assert mean_with_none(x2) == 17.5\n",
    "assert std_with_none(x2) == 8.2915619758885"
   ],
   "outputs": [],
   "execution_count": 23
  },
  {
   "cell_type": "markdown",
   "id": "430cecbb",
   "metadata": {
    "hidden": true
   },
   "source": [
    "#### `Print your docstrings`\n",
    "\n",
    "Run these commands to see whether you have defined docstrings, and if you are satisfied with them."
   ]
  },
  {
   "cell_type": "code",
   "id": "40e2aa1a",
   "metadata": {
    "hidden": true,
    "ExecuteTime": {
     "end_time": "2025-04-29T13:19:07.998102Z",
     "start_time": "2025-04-29T13:19:07.992102Z"
    }
   },
   "source": [
    "help(sum_with_none)"
   ],
   "outputs": [
    {
     "name": "stdout",
     "output_type": "stream",
     "text": [
      "Help on function sum_with_none in module __main__:\n",
      "\n",
      "sum_with_none(x)\n",
      "\n"
     ]
    }
   ],
   "execution_count": 24
  },
  {
   "cell_type": "code",
   "id": "2d278ac1",
   "metadata": {
    "hidden": true,
    "ExecuteTime": {
     "end_time": "2025-04-29T13:19:15.478680Z",
     "start_time": "2025-04-29T13:19:15.473682Z"
    }
   },
   "source": [
    "help(mean_with_none)"
   ],
   "outputs": [
    {
     "name": "stdout",
     "output_type": "stream",
     "text": [
      "Help on function mean_with_none in module __main__:\n",
      "\n",
      "mean_with_none(x)\n",
      "\n"
     ]
    }
   ],
   "execution_count": 25
  },
  {
   "cell_type": "code",
   "id": "93a8093c",
   "metadata": {
    "hidden": true,
    "ExecuteTime": {
     "end_time": "2025-04-29T13:19:18.390256Z",
     "start_time": "2025-04-29T13:19:18.382025Z"
    }
   },
   "source": [
    "help(std_with_none)"
   ],
   "outputs": [
    {
     "name": "stdout",
     "output_type": "stream",
     "text": [
      "Help on function std_with_none in module __main__:\n",
      "\n",
      "std_with_none(x)\n",
      "\n"
     ]
    }
   ],
   "execution_count": 26
  },
  {
   "cell_type": "markdown",
   "id": "cd210e51",
   "metadata": {
    "heading_collapsed": true
   },
   "source": [
    "### `Task 6: compute and visualise` (40 points)"
   ]
  },
  {
   "cell_type": "markdown",
   "id": "65dfb0f6",
   "metadata": {
    "hidden": true
   },
   "source": [
    "#### `Task 6.1: average and standard deviation` (10 points)\n",
    "\n",
    "* Compute the average and standard deviation of (1) age (2) height (3) number of languages, and (4) number of strokes in their name. Use your functions (`mean_with_none` and `std_with_none`) to do so. Print them.\n",
    "  \n",
    "* Discuss your results in 50–100 words."
   ]
  },
  {
   "cell_type": "markdown",
   "id": "8e149d05",
   "metadata": {
    "hidden": true
   },
   "source": [
    "#### YOUR CODE"
   ]
  },
  {
   "cell_type": "code",
   "id": "7bb52642",
   "metadata": {
    "hidden": true,
    "ExecuteTime": {
     "end_time": "2025-04-29T13:20:57.918949Z",
     "start_time": "2025-04-29T13:20:57.913064Z"
    }
   },
   "source": "print(f\"Age Mean: {mean_with_none(ages):.2f}, Std: {std_with_none(ages):.2f}\")",
   "outputs": [
    {
     "name": "stdout",
     "output_type": "stream",
     "text": [
      "Age Mean: 25.66, Std: 12.93\n"
     ]
    }
   ],
   "execution_count": 27
  },
  {
   "cell_type": "code",
   "id": "2b0e82ef",
   "metadata": {
    "hidden": true,
    "ExecuteTime": {
     "end_time": "2025-04-29T17:37:53.666013Z",
     "start_time": "2025-04-29T17:37:53.655009Z"
    }
   },
   "source": "print(f\"Height Mean: {mean_with_none(heights):.2f}, Std: {std_with_none(heights):.2f}\")",
   "outputs": [
    {
     "name": "stdout",
     "output_type": "stream",
     "text": [
      "Height Mean: 172.15, Std: 9.02\n"
     ]
    }
   ],
   "execution_count": 108
  },
  {
   "cell_type": "code",
   "id": "1705a783-5e8d-4fad-8d01-c522bc2fa796",
   "metadata": {
    "hidden": true,
    "ExecuteTime": {
     "end_time": "2025-04-29T13:22:07.875016Z",
     "start_time": "2025-04-29T13:22:07.866049Z"
    }
   },
   "source": "print(f\"Languages Mean: {mean_with_none(n_languages_list):.2f}, Std: {std_with_none(n_languages_list):.2f}\")",
   "outputs": [
    {
     "name": "stdout",
     "output_type": "stream",
     "text": [
      "Languages Mean: 2.29, Std: 0.98\n"
     ]
    }
   ],
   "execution_count": 29
  },
  {
   "cell_type": "code",
   "id": "a80f3b73-d50d-4533-9de5-5d96ef83e68b",
   "metadata": {
    "hidden": true,
    "ExecuteTime": {
     "end_time": "2025-04-29T13:23:01.778345Z",
     "start_time": "2025-04-29T13:23:01.771206Z"
    }
   },
   "source": "print(f\"Strokes Mean: {mean_with_none(n_strokes_list):.2f}, Std: {std_with_none(n_strokes_list):.2f}\")",
   "outputs": [
    {
     "name": "stdout",
     "output_type": "stream",
     "text": [
      "Strokes Mean: 22.78, Std: 8.07\n"
     ]
    }
   ],
   "execution_count": 30
  },
  {
   "cell_type": "markdown",
   "id": "d5349d03",
   "metadata": {
    "hidden": true
   },
   "source": [
    "#### YOUR EXPLANATION"
   ]
  },
  {
   "cell_type": "raw",
   "id": "913e4223",
   "metadata": {
    "hidden": true
   },
   "source": [
    "Your explanation for task 6.1:\n",
    "------------------------------\n",
    "\n",
    "\n",
    "\n",
    "\n",
    "\n",
    "\n",
    "\n",
    "\n",
    "\n",
    "\n",
    "\n"
   ]
  },
  {
   "cell_type": "markdown",
   "id": "5b6750ae",
   "metadata": {
    "hidden": true
   },
   "source": [
    "#### `Task 6.2: language and education level` (10 points)\n",
    "\n",
    "What is the average number of languages known by respondents? Does this vary with their level of education?\n",
    "\n",
    "- Compute the number of respondents at each level of education.\n",
    "    - Plot these numbers as a bar chart, using `plt.bar`.\n",
    "    - Make sure that each bar is labelled with the education level.\n",
    "    - Also add a title to your plot (use `plt.title`).\n",
    "- For the set of respondents at each level of education, find the average number of languages that they know.\n",
    "    - Plot the results in a line graph, using `plt.plot`.\n",
    "    - Label the graph sufficiently.\n"
   ]
  },
  {
   "cell_type": "markdown",
   "id": "5a360bc9",
   "metadata": {
    "hidden": true
   },
   "source": [
    "#### YOUR CODE"
   ]
  },
  {
   "cell_type": "code",
   "id": "f2ef61f4",
   "metadata": {
    "hidden": true,
    "ExecuteTime": {
     "end_time": "2025-04-29T13:30:41.872023Z",
     "start_time": "2025-04-29T13:30:41.509376Z"
    }
   },
   "source": [
    "edu_counts = {edu : 0 for edu in EDUMAP.values()}\n",
    "for edu in educations:\n",
    "    if  edu :\n",
    "        edu_counts[edu] += 1\n",
    "\n",
    "\n",
    "edu_levels = list(edu_counts.keys())\n",
    "edu_nums = list(edu_counts.values())\n",
    "\n",
    "plt.figure(figsize=(8, 5))\n",
    "plt.bar(edu_levels, edu_nums, color='skyblue')\n",
    "plt.title(\"Number of Respondents by Education Level\")\n",
    "plt.xlabel(\"Education Level\")\n",
    "plt.ylabel(\"Number of Respondents\")\n",
    "plt.xticks(rotation=15)\n",
    "plt.tight_layout()\n",
    "plt.show()"
   ],
   "outputs": [
    {
     "data": {
      "text/plain": [
       "<Figure size 800x500 with 1 Axes>"
      ],
      "image/png": "[encoded data removed]"
     },
     "metadata": {},
     "output_type": "display_data"
    }
   ],
   "execution_count": 34
  },
  {
   "cell_type": "code",
   "id": "664e27aa",
   "metadata": {
    "hidden": true,
    "ExecuteTime": {
     "end_time": "2025-04-29T13:30:45.083503Z",
     "start_time": "2025-04-29T13:30:44.829889Z"
    }
   },
   "source": [
    "edu_langs = {edu: [] for edu in EDUMAP.values()}\n",
    "for edu, lang in zip(educations, n_languages_list):\n",
    "    if edu and lang is not None and not (isinstance(lang, float) and np.isnan(lang)):\n",
    "        edu_langs[edu].append(lang)\n",
    "\n",
    "edu_avg_langs = {edu: np.mean(vals) for edu, vals in edu_langs.items()}\n",
    "\n",
    "edu_levels_sorted = sorted(edu_avg_langs.keys()) \n",
    "avg_langs = [edu_avg_langs[edu] for edu in edu_levels_sorted]\n",
    "\n",
    "plt.figure(figsize=(8, 5))\n",
    "plt.plot(edu_levels_sorted, avg_langs, marker='o', linestyle='-')\n",
    "plt.title(\"Average Number of Languages by Education Level\")\n",
    "plt.xlabel(\"Education Level\")\n",
    "plt.ylabel(\"Average Number of Languages\")\n",
    "plt.grid(True)\n",
    "plt.tight_layout()\n",
    "plt.show()"
   ],
   "outputs": [
    {
     "data": {
      "text/plain": [
       "<Figure size 800x500 with 1 Axes>"
      ],
      "image/png": "[encoded data removed]"
     },
     "metadata": {},
     "output_type": "display_data"
    }
   ],
   "execution_count": 35
  },
  {
   "cell_type": "code",
   "execution_count": null,
   "id": "cf78f028",
   "metadata": {
    "hidden": true
   },
   "outputs": [],
   "source": []
  },
  {
   "cell_type": "markdown",
   "id": "10d3f547",
   "metadata": {
    "hidden": true
   },
   "source": [
    "#### YOUR EXPLANATION\n",
    "\n",
    "Explain your strategy for coding a solution to this task. How did you compute the average values (for `n_languages`) within each group of respondents (grouped by `education`)?\n",
    "\n",
    "What are your results, and do they make sense?\n",
    "\n",
    "Discuss the above in 50–100 words."
   ]
  },
  {
   "cell_type": "raw",
   "id": "d10b7570",
   "metadata": {
    "hidden": true
   },
   "source": [
    "Your explanation for task 6.2:\n",
    "------------------------------\n",
    "\n",
    "\n",
    "\n",
    "\n",
    "\n",
    "\n",
    "\n",
    "\n"
   ]
  },
  {
   "cell_type": "markdown",
   "id": "4c13b035",
   "metadata": {
    "hidden": true
   },
   "source": [
    "    \n",
    "#### `Task 6.3: Sport popularity by province` (10 points)\n",
    "\n",
    "Estimate the popularity of the two sports (volleyball and table tennis) by province, and find the provinces in which each sport is most and least popular.\n",
    "\n",
    "- First, calculate the number of people in the dataset from each province. For the rest of this task, only consider provinces **with at least 10 respondents.**\n",
    "- Estimate the popularity of volleyball in each province (with at least 10 responses) using the fraction of non-null responses that are \"True\".\n",
    "    - If the responses for a province were `[True, True, True, False, False, None, None]`, then the popularity should be 0.60 (three `True` responses compared with five total responses).\n",
    "- Do the same for table tennis.\n",
    "- Find the 3 provinces in which each sport is most popular.\n",
    "- Find the 3 provinces in which each sport is least popular.\n",
    "- Find the province with the greatest difference in popularity between volleyball and table tennis."
   ]
  },
  {
   "cell_type": "markdown",
   "id": "b230e10d",
   "metadata": {
    "hidden": true
   },
   "source": [
    "#### YOUR CODE"
   ]
  },
  {
   "cell_type": "code",
   "id": "423d642c",
   "metadata": {
    "hidden": true,
    "ExecuteTime": {
     "end_time": "2025-04-29T14:04:14.583102Z",
     "start_time": "2025-04-29T14:04:14.570077Z"
    }
   },
   "source": [
    "provinces = np.array(provinces)\n",
    "volleyball = np.array(volleyballs, dtype=object)\n",
    "table_tennis = np.array(table_tennises, dtype=object)\n",
    "\n",
    "unique_provinces =list(set(provinces))\n",
    "\n",
    "province_list = []\n",
    "volley_popularity = []\n",
    "table_popularity = []\n",
    "respondent_counts = []\n",
    "\n",
    "for prov in unique_provinces:\n",
    "    idx = provinces == prov\n",
    "    count = np.sum(idx)\n",
    "    if count < 10:\n",
    "        continue  \n",
    "    respondent_counts.append(count)\n",
    "    province_list.append(prov)\n",
    "    vball = volleyball[idx]\n",
    "    \n",
    "    vball_rate = np.sum(vball == True) / len(vball) if len(vball) > 0 else 0\n",
    "    volley_popularity.append(vball_rate)\n",
    "\n",
    "    tball = table_tennis[idx]\n",
    "    \n",
    "    tball_rate = np.sum(tball == True) / len(tball) if len(tball) > 0 else 0\n",
    "    table_popularity.append(tball_rate)\n",
    "\n",
    "volley_popularity = np.array(volley_popularity)\n",
    "table_popularity = np.array(table_popularity)\n",
    "province_list = np.array(province_list)"
   ],
   "outputs": [],
   "execution_count": 51
  },
  {
   "cell_type": "code",
   "id": "6926f1e7",
   "metadata": {
    "hidden": true,
    "ExecuteTime": {
     "end_time": "2025-04-29T14:04:17.281355Z",
     "start_time": "2025-04-29T14:04:17.270395Z"
    }
   },
   "source": [
    "\n",
    "top3_volley_idx = np.argsort(-volley_popularity)[:3]\n",
    "print(\"排球最受欢迎的3个省份：\", province_list[top3_volley_idx])\n",
    "bottom3_volley_idx = np.argsort(volley_popularity)[:3]\n",
    "print(\"排球最不受欢迎的3个省份：\", province_list[bottom3_volley_idx])\n",
    "top3_table_idx = np.argsort(-table_popularity)[:3]\n",
    "print(\"乒乓球最受欢迎的3个省份：\", province_list[top3_table_idx])\n",
    "bottom3_table_idx = np.argsort(table_popularity)[:3]\n",
    "print(\"乒乓球最不受欢迎的3个省份：\", province_list[bottom3_table_idx])\n"
   ],
   "outputs": [
    {
     "name": "stdout",
     "output_type": "stream",
     "text": [
      "排球最受欢迎的3个省份： ['Hainan' 'Heilongjiang' 'Guizhou']\n",
      "排球最不受欢迎的3个省份： [None 'Hunan' 'Jiangxi']\n",
      "乒乓球最受欢迎的3个省份： ['Guizhou' 'Hainan' 'Xinjiang']\n",
      "乒乓球最不受欢迎的3个省份： [None 'Liaoning' 'Jiangxi']\n"
     ]
    }
   ],
   "execution_count": 52
  },
  {
   "cell_type": "code",
   "id": "ad9f29a5-242f-4132-9569-ae0b794f764c",
   "metadata": {
    "ExecuteTime": {
     "end_time": "2025-04-29T14:04:20.615409Z",
     "start_time": "2025-04-29T14:04:20.607955Z"
    }
   },
   "source": [
    "diff = np.abs(volley_popularity - table_popularity)\n",
    "most_diff_idx = np.argmax(diff)\n",
    "print(\"排球和乒乓球受欢迎度差异最大的省份:\", province_list[most_diff_idx])\n"
   ],
   "outputs": [
    {
     "name": "stdout",
     "output_type": "stream",
     "text": [
      "排球和乒乓球受欢迎度差异最大的省份: Xinjiang\n"
     ]
    }
   ],
   "execution_count": 53
  },
  {
   "cell_type": "code",
   "execution_count": null,
   "id": "21413697-4d3e-4312-b782-11fcf71a2184",
   "metadata": {},
   "outputs": [],
   "source": []
  },
  {
   "cell_type": "markdown",
   "id": "5fb5dbf9",
   "metadata": {
    "hidden": true
   },
   "source": [
    "#### YOUR EXPLANATION\n",
    "\n",
    "Describe your approach to calculating the above values.\n",
    "\n",
    "Discuss the results (in 50–100 words). Do they make sense? Do the results seem plausible? Are there any unusual values?"
   ]
  },
  {
   "cell_type": "raw",
   "id": "4ecbc30e",
   "metadata": {
    "hidden": true
   },
   "source": [
    "Your explanation for task 6.3:\n",
    "------------------------------\n",
    "\n",
    "\n",
    "\n",
    "\n",
    "\n",
    "\n",
    "\n"
   ]
  },
  {
   "cell_type": "markdown",
   "id": "a6418f4f",
   "metadata": {
    "hidden": true
   },
   "source": [
    "####  `Task 6.4: distribution of stroke counts` (10 points)\n",
    "\n",
    "- Calculate the minimum, average, maximum and standard deviation (min/avg/max/std) of the number of strokes in the respondents' names.\n",
    "- Second, plot a histogram of the stroke counts using `plt.hist`.\n",
    "    - Adjust the input parameters of `plt.hist` until you can clearly see the distribution of the stroke counts.\n",
    "    - You should be able to recognise that the distribution approximates a normal distribution, or \"bell curve\".\n",
    "- Third, define a function `generate_n_strokes` that can generate a random, realistic value of `n_strokes`. (Hint: your solution will make use of `np.random.randn`.)\n",
    "- Finally, use `generate_n_strokes` to create a list of 800 values, and calculate the min/avg/max/std of this new list. Compare these values to the real data."
   ]
  },
  {
   "cell_type": "markdown",
   "id": "e9a2bb51",
   "metadata": {
    "hidden": true
   },
   "source": [
    "#### YOUR CODE"
   ]
  },
  {
   "cell_type": "code",
   "id": "61128f1b",
   "metadata": {
    "hidden": true,
    "ExecuteTime": {
     "end_time": "2025-04-29T13:57:49.975992Z",
     "start_time": "2025-04-29T13:57:49.966723Z"
    }
   },
   "source": [
    "clean_stroke_counts = [s for s in n_strokes_list if s is not None]\n",
    "strokes = np.array(clean_stroke_counts)\n",
    "\n",
    "\n",
    "min_stroke = np.min(strokes)\n",
    "avg_stroke = np.mean(strokes)\n",
    "max_stroke = np.max(strokes)\n",
    "std_stroke = np.std(strokes)\n",
    "\n",
    "print(f\"最小值: {min_stroke}, 平均值: {avg_stroke:.2f}, 最大值: {max_stroke}, 标准差: {std_stroke:.2f}\")"
   ],
   "outputs": [
    {
     "name": "stdout",
     "output_type": "stream",
     "text": [
      "最小值: 2, 平均值: 22.78, 最大值: 56, 标准差: 8.07\n"
     ]
    }
   ],
   "execution_count": 46
  },
  {
   "cell_type": "code",
   "id": "e79be526",
   "metadata": {
    "hidden": true,
    "ExecuteTime": {
     "end_time": "2025-04-29T13:58:57.609649Z",
     "start_time": "2025-04-29T13:58:57.195694Z"
    }
   },
   "source": [
    "plt.figure(figsize=(8, 5))\n",
    "plt.hist(strokes, bins=15, edgecolor='black', color='skyblue')\n",
    "plt.title(\"Distribution of Stroke Counts in Names\")\n",
    "plt.xlabel(\"Number of Strokes\")\n",
    "plt.ylabel(\"Number of People\")\n",
    "plt.grid(axis='y', linestyle='--', alpha=0.7)\n",
    "plt.show()\n"
   ],
   "outputs": [
    {
     "data": {
      "text/plain": [
       "<Figure size 800x500 with 1 Axes>"
      ],
      "image/png": "[encoded data removed]"
     },
     "metadata": {},
     "output_type": "display_data"
    }
   ],
   "execution_count": 47
  },
  {
   "cell_type": "code",
   "id": "be3e31ff",
   "metadata": {
    "hidden": true,
    "ExecuteTime": {
     "end_time": "2025-04-29T14:02:02.605325Z",
     "start_time": "2025-04-29T14:02:02.596058Z"
    }
   },
   "source": [
    "def generate_n_strokes():\n",
    "\n",
    "    n_strokes = np.random.randint(2, 57) \n",
    "    return n_strokes"
   ],
   "outputs": [],
   "execution_count": 49
  },
  {
   "cell_type": "code",
   "id": "299d4b36-6460-4a87-9fc4-f28a0850b066",
   "metadata": {
    "ExecuteTime": {
     "end_time": "2025-04-29T14:02:22.362779Z",
     "start_time": "2025-04-29T14:02:22.340652Z"
    }
   },
   "source": [
    "simulated = [generate_n_strokes() for _ in range(800)]\n",
    "sim_strokes_array = np.array(simulated)\n",
    "\n",
    "print(f\"最小值: {np.min(sim_strokes_array)}, 平均值: {np.mean(sim_strokes_array):.2f}, 最大值: {np.max(sim_strokes_array)}, 标准差: {np.std(sim_strokes_array):.2f}\")\n"
   ],
   "outputs": [
    {
     "name": "stdout",
     "output_type": "stream",
     "text": [
      "最小值: 2, 平均值: 29.23, 最大值: 56, 标准差: 15.82\n"
     ]
    }
   ],
   "execution_count": 50
  },
  {
   "cell_type": "markdown",
   "id": "26b35578",
   "metadata": {
    "hidden": true
   },
   "source": [
    "#### YOUR EXPLANATION\n",
    "\n",
    "In 50–100 words:\n",
    "\n",
    "- Discuss your code decisions for writing `generate_n_strokes`.\n",
    "- Compare the synthetic data (that you generated) to the real data. Are they different? How and why?"
   ]
  },
  {
   "cell_type": "raw",
   "id": "7b43eac9",
   "metadata": {
    "hidden": true
   },
   "source": [
    "Your explanation for task 6.4:\n",
    "------------------------------\n",
    "\n",
    "\n",
    "\n",
    "\n",
    "\n",
    "\n",
    "\n"
   ]
  },
  {
   "cell_type": "markdown",
   "id": "2586b4d6",
   "metadata": {},
   "source": [
    "### `Task 7: compare rows and users` (20 points)\n",
    "\n",
    "Which two rows (respondents) in the data set are most similar? Are there any identical ones?\n",
    "\n",
    "To answer questions like these, we need a method of computing the \"distance\" between two rows. You have seen in previous worksheets and lectures that the **Euclidean distance** is a common distance metric to compare points in a 2D space, and that it generalises easily to N-dimensional spaces.\n",
    "\n",
    "In this section, you will define a function `row_distance(row1, row2)` that accepts two rows from your array `data` and returns the \"distance\" between them.\n",
    "\n",
    "#### Normalisation\n",
    "\n",
    "Before you can define that function, you need to determine an appropriate scale for each variable. To do this, you will use \"min-max normalisation\".\n",
    "\n",
    "The approach of min-max normalisation is:\n",
    "\n",
    "- find the minimum of the values\n",
    "- find the maximum of the values\n",
    "- linearly rescale all the values to lie between a new minimum of 0 and a new maximum of 1\n",
    "\n",
    "For example, if a set of values is `[-5, 0, 0, None, 3]`, then the min-max normalised values would be `[0, 0.625, 0.625, None, 1]`.\n",
    "\n",
    "Some data may need to be converted into numeric data types before they can be normalised. For example, `education` level could be converted from `str` to `int`, and `volleyball` could be converted from `bool` to `int`.\n"
   ]
  },
  {
   "cell_type": "markdown",
   "id": "92511afe-9cc0-4b82-ae9e-782cb0d8c4fa",
   "metadata": {},
   "source": [
    "#### `Task 7.1: define a distance function`\n",
    "\n",
    "- Define a function `row_distance(row1, row2)` that computes the Euclidean distance between two data points (i.e., two rows, or two people) from the dataset.\n",
    "    - The function should rescale each input value according to the minimum and maximum values of the dataset.\n",
    "    - The function does *not* need to use each column. For example, it may exclude the \"favourite film\" column if you cannot think of a way to turn this into a distance.\n",
    "- Write a docstring that explains how the function works. The docstring should explain which features are included and how null values are handled."
   ]
  },
  {
   "cell_type": "markdown",
   "id": "ce800d92-e8c8-4814-ac1d-3f096afa65cd",
   "metadata": {},
   "source": [
    "#### `Task 7.2: find similar data`\n",
    "\n",
    "- 7.2.1: Use `row_distance` to find the nearest data point `row_A` to YOU in the dataset.\n",
    "    - I.e., find the person with the nearest age/height/n_languages/etc. to you, personally.\n",
    "    - Discuss: is it possible that `row_A` is actually about you?\n",
    "- 7.2.2: Use `row_distance` to find the two nearest data points `row_X` and `row_Y` in the dataset.\n",
    "    - Print their original (un-normalised) values and compare them.\n",
    "    - Discuss whether you think these could be the same person or not.\n",
    "- 7.2.3: Use `row_distance` to find the two data contributors `user1` and `user2` (each identified by a `user_id` between `U001` and `U144`) whose data are most similar to each other.\n",
    "    - Explain your approach to this task. Note that you need to compare not just two rows, but two *sets of rows*.\n",
    "    - Discuss whether you think these two contributors may have uploaded the same data."
   ]
  },
  {
   "cell_type": "markdown",
   "id": "a1acadfa",
   "metadata": {},
   "source": [
    "#### YOUR CODE\n",
    "\n",
    "Write code for solving tasks 7.1–7.2 here."
   ]
  },
  {
   "cell_type": "code",
   "id": "99d8a551-107a-4e46-a375-4a0ea63fd1e8",
   "metadata": {
    "ExecuteTime": {
     "end_time": "2025-04-29T17:18:26.323001Z",
     "start_time": "2025-04-29T17:18:26.312002Z"
    }
   },
   "source": [
    "def row_distance(row1, row2):\n",
    "    dist = 0\n",
    "    count = 0\n",
    "    for i in range(2, 10):\n",
    "        val1 = row1[i]\n",
    "        val2 = row2[i]\n",
    "        try:\n",
    "            if np.isnan(val1) or np.isnan(val2):\n",
    "                return np.inf\n",
    "        except TypeError:\n",
    "            continue\n",
    "        dist += (val1 - val2) ** 2\n",
    "        count += 1\n",
    "    \n",
    "    if count != 8:\n",
    "        return np.inf\n",
    " \n",
    "    return np.sqrt(dist)"
   ],
   "outputs": [],
   "execution_count": 86
  },
  {
   "cell_type": "code",
   "id": "17b7d535-0f64-4838-91aa-658127901c73",
   "metadata": {
    "ExecuteTime": {
     "end_time": "2025-04-29T17:38:23.840516Z",
     "start_time": "2025-04-29T17:38:23.814510Z"
    }
   },
   "source": [
    "data=clean_data.copy()\n",
    "provinces = data[:, 5]\n",
    "unique_provinces = list(set(prov for prov in provinces if prov is not None))\n",
    "province_map = {prov: idx for idx, prov in enumerate(unique_provinces)}\n",
    "for i in range(len(data)):\n",
    "    if data[i, 5] is not None:\n",
    "        data[i, 5] = province_map[data[i, 5]]\n",
    "\n",
    "edu_map = {'1-High School': 0, '2-Undergraduate': 1, '3-Postgraduate': 2, '4-Doctorate': 3}\n",
    "for i in range(len(data)):\n",
    "    if data[i, 6] in edu_map:\n",
    "        data[i, 6] = edu_map[data[i, 6]]\n",
    "    elif data[i, 6] is not None:\n",
    "        data[i, 6] = 0 \n",
    "\n",
    "for col in [8, 9]:\n",
    "    for i in range(len(data)):\n",
    "        if data[i, col] == 'TRUE':\n",
    "            data[i, col] = 1\n",
    "        elif data[i, col] ==\"FALSE\":\n",
    "            data[i, col] = 0\n",
    "\n",
    "\n",
    "for col in range(2, 10):\n",
    "    col_values = np.array([x for x in data[:, col] if x is not None], dtype=float)\n",
    "    if len(col_values) == 0:\n",
    "        continue\n",
    "    min_val = np.min(col_values)\n",
    "    max_val = np.max(col_values)\n",
    "    if min_val == max_val:\n",
    "        continue  \n",
    "    for i in range(len(data)):\n",
    "        if data[i, col] is not None:\n",
    "            data[i, col] = (float(data[i, col]) - min_val) / (max_val - min_val)\n"
   ],
   "outputs": [],
   "execution_count": 110
  },
  {
   "cell_type": "code",
   "id": "77651e0e-a843-4927-bb0a-dbcffc5b967b",
   "metadata": {
    "ExecuteTime": {
     "end_time": "2025-04-29T17:46:16.601855Z",
     "start_time": "2025-04-29T17:46:16.588907Z"
    }
   },
   "source": [
    "clean_array = data[:, 2:10].astype(float)  \n",
    "\n",
    "min_list = np.nanmin(clean_array, axis=0)\n",
    "max_list = np.nanmax(clean_array, axis=0)\n",
    "my_row = np.array(['U070','P802',18, 170, 2, province_map['Fujian'], edu_map['1-High School'],2, 1, 0], dtype=object)\n",
    "\n",
    "for i in range(len(max_list)):\n",
    "    min_val = min_list[i]\n",
    "    max_val = max_list[i]\n",
    "    if max_val != min_val:\n",
    "        my_row[i+2] = (my_row[i+2] - min_val) / (max_val - min_val)\n",
    "    else:\n",
    "        my_row[i+2] = 0  \n"
   ],
   "outputs": [],
   "execution_count": 117
  },
  {
   "metadata": {
    "ExecuteTime": {
     "end_time": "2025-04-29T17:48:29.732869Z",
     "start_time": "2025-04-29T17:48:29.693870Z"
    }
   },
   "cell_type": "code",
   "source": [
    "min_dist=np.inf\n",
    "for i in range(len(data)):\n",
    "    dist=row_distance(data[i], my_row)\n",
    "    if dist < min_dist:\n",
    "        min_dist = dist\n",
    "        row_A = clean_data[i]\n",
    "print(\"最相似的行：\")\n",
    "print(\"Row A:\", row_A)"
   ],
   "id": "904565691b380764",
   "outputs": [
    {
     "name": "stdout",
     "output_type": "stream",
     "text": [
      "最相似的行：\n",
      "Row A: ['U096' 'P549' 20 193.2 25 'Zhejiang' '2-Undergraduate' 4 True False\n",
      " 'The truman show']\n"
     ]
    }
   ],
   "execution_count": 119
  },
  {
   "cell_type": "code",
   "id": "3c0ca8d7",
   "metadata": {
    "ExecuteTime": {
     "end_time": "2025-04-29T17:51:19.901439Z",
     "start_time": "2025-04-29T17:51:04.943090Z"
    }
   },
   "source": [
    "min_dist = np.inf\n",
    "row_X = row_Y = None\n",
    "\n",
    "for i in range(len(data)):\n",
    "    for j in range(i + 1, len(data)):\n",
    "        dist = row_distance(data[i], data[j])\n",
    "        if dist < min_dist:\n",
    "            min_dist = dist\n",
    "            row_X = clean_data[i]\n",
    "            row_Y = clean_data[j]\n",
    "print(\"最相似的两行：\")\n",
    "print(\"Row X:\", row_X) \n",
    "print(\"Row Y:\", row_Y)\n"
   ],
   "outputs": [
    {
     "name": "stdout",
     "output_type": "stream",
     "text": [
      "最相似的两行：\n",
      "Row X: ['U034' 'P204' 19 186.0 17 'Hebei' '2-Undergraduate' 2 True True\n",
      " 'Zootopia']\n",
      "Row Y: ['U035' 'P208' 19 186.0 17 'Hebei' '2-Undergraduate' 2 True True\n",
      " 'Zootopia']\n"
     ]
    }
   ],
   "execution_count": 120
  },
  {
   "metadata": {
    "ExecuteTime": {
     "end_time": "2025-04-29T17:53:06.173475Z",
     "start_time": "2025-04-29T17:52:58.677931Z"
    }
   },
   "cell_type": "code",
   "source": [
    "\n",
    "user_to_rows = {}\n",
    "\n",
    "for i in range(len(data)):\n",
    "    user_id = data[i][0]\n",
    "    row = data[i]  \n",
    "    if all(v is not None for v in row):\n",
    "        if user_id not in user_to_rows:\n",
    "            user_to_rows[user_id] = []\n",
    "        user_to_rows[user_id].append(row)\n",
    "\n",
    "def avg_distance(rows1, rows2):\n",
    "    total_dist = 0\n",
    "    count = 0\n",
    "    for r1 in rows1:\n",
    "        for r2 in rows2:\n",
    "            total_dist += row_distance(r1, r2)\n",
    "            count += 1\n",
    "    return total_dist / count if count > 0 else float('inf')\n",
    "\n",
    "min_dist = float('inf')\n",
    "most_similar_pair = (None, None)\n",
    "\n",
    "user_ids = list(user_to_rows.keys())\n",
    "\n",
    "for i in range(len(user_ids)):\n",
    "    for j in range(i + 1, len(user_ids)):\n",
    "        user1 = user_ids[i]\n",
    "        user2 = user_ids[j]\n",
    "        dist = avg_distance(user_to_rows[user1], user_to_rows[user2])\n",
    "        if dist < min_dist:\n",
    "            min_dist = dist\n",
    "            most_similar_pair = (user1, user2)\n",
    "\n",
    "print(\"最相似的两个用户:\", most_similar_pair)\n",
    "print(\"平均距离:\", min_dist)\n"
   ],
   "id": "767dbcda4ab98366",
   "outputs": [
    {
     "name": "stdout",
     "output_type": "stream",
     "text": [
      "最相似的两个用户: ('U140', 'U142')\n",
      "平均距离: 0.3180265882938763\n"
     ]
    }
   ],
   "execution_count": 122
  },
  {
   "cell_type": "markdown",
   "id": "419ebcce",
   "metadata": {},
   "source": [
    "#### YOUR EXPLANATION\n",
    "\n",
    "Your explanation for 7.1 should appear in the docstring of the function.\n",
    "\n",
    "Add your discussion answers to 7.2 below, using up to 100 words. Your discussion should focus on 7.2.3: \"Explain your approach to this task.\""
   ]
  },
  {
   "cell_type": "code",
   "id": "1d484bb9-9b4b-4bb1-90bb-7a4ab677f2b7",
   "metadata": {
    "ExecuteTime": {
     "end_time": "2025-04-29T17:54:03.420074Z",
     "start_time": "2025-04-29T17:54:03.412092Z"
    }
   },
   "source": [
    "# Print the explanation for row_distance\n",
    "help(row_distance)"
   ],
   "outputs": [
    {
     "name": "stdout",
     "output_type": "stream",
     "text": [
      "Help on function row_distance in module __main__:\n",
      "\n",
      "row_distance(row1, row2)\n",
      "\n"
     ]
    }
   ],
   "execution_count": 123
  },
  {
   "cell_type": "raw",
   "id": "115ce6f6",
   "metadata": {},
   "source": [
    "Your explanation for task 7:\n",
    "----------------------------\n",
    "\n",
    "\n",
    "\n",
    "\n",
    "\n",
    "\n",
    "\n"
   ]
  },
  {
   "cell_type": "markdown",
   "id": "044d0f5f",
   "metadata": {},
   "source": [
    "### `Task 8: submission checklists`"
   ]
  },
  {
   "cell_type": "markdown",
   "id": "59c9b3f6-3434-4f62-9aff-5d013c324b11",
   "metadata": {},
   "source": [
    "To tick the boxes below, double click on the segment, and change the empty tickboxes to checked ones: `[ ]` to `[x]`"
   ]
  },
  {
   "cell_type": "markdown",
   "id": "939f4e49-5d77-4555-8db9-5abcb5517c97",
   "metadata": {},
   "source": [
    "<div style=\"padding: 10px; border: 2px solid blue;\">\n",
    "    \n",
    "**Academic honesty declaration**\n",
    "* [ ] I declare that I have completed this assignment on my own.\n",
    "      \n",
    "Your Name\n",
    "</div>"
   ]
  },
  {
   "cell_type": "markdown",
   "id": "b2adb30b",
   "metadata": {},
   "source": [
    "<div style=\"padding: 10px; border: 2px solid blue;\">\n",
    "    \n",
    "Before I uploaded my submission to QMplus, I checked that:\n",
    "\n",
    "* [ ] My name and QMUL ID have been added to the top of the notebook.\n",
    "* [ ] My name is in the **academic honesty declaration** above, and I have ticked the box to sign it.\n",
    "* [ ] When I run `\"Restart kernel and run all cells\"`, all of the code runs without error and all the figures generate correctly.\n",
    "* [ ] I have saved the notebook **after** running all cells and generating all figures.\n",
    "* [ ] I have not edited the file `people_data.csv`; all the steps to clean and modify the data take place within this notebook.\n",
    "\n",
    "</div>"
   ]
  },
  {
   "cell_type": "markdown",
   "id": "c482d11b-ff7e-46b3-951b-9b82c28cea24",
   "metadata": {},
   "source": [
    "\n",
    "Once you have affirmed all of the above, you may upload the `.ipynb` file directly to QMplus.\n",
    "\n",
    "The deadline to submit your assignment is **Thursday the 1st of May, 2024 (2024-05-01) at 23:59 in China Standard Time.**.\n"
   ]
  }
 ],
 "metadata": {
  "kernelspec": {
   "display_name": "Python 3 (ipykernel)",
   "language": "python",
   "name": "python3"
  },
  "language_info": {
   "codemirror_mode": {
    "name": "ipython",
    "version": 3
   },
   "file_extension": ".py",
   "mimetype": "text/x-python",
   "name": "python",
   "nbconvert_exporter": "python",
   "pygments_lexer": "ipython3",
   "version": "3.10.13"
  },
  "toc": {
   "base_numbering": 1,
   "nav_menu": {},
   "number_sections": false,
   "sideBar": true,
   "skip_h1_title": true,
   "title_cell": "Table of Contents",
   "title_sidebar": "Contents",
   "toc_cell": true,
   "toc_position": {
    "height": "calc(100% - 180px)",
    "left": "10px",
    "top": "150px",
    "width": "287.188px"
   },
   "toc_section_display": true,
   "toc_window_display": false
  }
 },
 "nbformat": 4,
 "nbformat_minor": 5
}
