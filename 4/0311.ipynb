{
 "cells": [
  {
   "cell_type": "code",
   "id": "initial_id",
   "metadata": {
    "collapsed": true,
    "ExecuteTime": {
     "end_time": "2025-03-12T05:16:13.128141Z",
     "start_time": "2025-03-12T05:16:10.566174Z"
    }
   },
   "source": [
    "import pandas as pd\n",
    "df=pd.read_excel('2-0 高速数据.xlsx')\n",
    "df.head()"
   ],
   "execution_count": 2,
   "outputs": []
  },
  {
   "metadata": {
    "ExecuteTime": {
     "end_time": "2025-03-11T16:12:03.042977Z",
     "start_time": "2025-03-11T16:12:03.036466Z"
    }
   },
   "cell_type": "code",
   "source": "df.columns",
   "id": "d6b97dfc23859489",
   "execution_count": 3,
   "outputs": []
  },
  {
   "metadata": {
    "ExecuteTime": {
     "end_time": "2025-03-12T05:16:28.437988Z",
     "start_time": "2025-03-12T05:16:14.855115Z"
    }
   },
   "cell_type": "code",
   "source": [
    "import pandas as pd\n",
    "from sklearn.cluster import KMeans\n",
    "from sklearn.preprocessing import StandardScaler\n",
    "import matplotlib.pyplot as plt\n",
    "plt.rcParams['font.sans-serif'] = ['SimHei']\n",
    "plt.rcParams['axes.unicode_minus'] = False\n",
    "from mpl_toolkits.mplot3d import Axes3D\n",
    "\n",
    "sampled_df = df.sample(frac=0.8, random_state=42)\n",
    "sampled_df.to_csv('2-0 高速数据80%.csv', index=False)\n",
    "features = sampled_df \n",
    "scaler = StandardScaler()\n",
    "scaled_features = scaler.fit_transform(features)\n",
    "\n",
    "# K-means聚类\n",
    "kmeans = KMeans(n_clusters=4, random_state=42)\n",
    "clusters = kmeans.fit_predict(scaled_features)\n",
    "sampled_df['cluster'] = clusters  \n",
    "\n",
    "fig = plt.figure(figsize=(12, 8))\n",
    "ax = fig.add_subplot(111, projection='3d')\n",
    "\n",
    "scatter = ax.scatter(\n",
    "    sampled_df['车流量/（辆/分钟）'],\n",
    "    sampled_df['平均车速/(公里/小时)'],\n",
    "    sampled_df['时间占有率/（%*100）'],\n",
    "    c=sampled_df['cluster'],\n",
    "    cmap='viridis',\n",
    "    s=50,\n",
    "    alpha=0.7\n",
    ")\n",
    "\n",
    "ax.set_xlabel('车流量/（辆/分钟）')\n",
    "ax.set_ylabel('平均车速/(公里/小时)')\n",
    "ax.set_zlabel('时间占有率/（%*100）')\n",
    "plt.title('3D Cluster Visualization (K-means with 4 clusters)')\n",
    "\n",
    "cbar = plt.colorbar(scatter, ax=ax, pad=0.1)\n",
    "cbar.set_label('Cluster')\n",
    "\n",
    "plt.show()"
   ],
   "id": "ab76b57f99b27fdd",
   "execution_count": 3,
   "outputs": []
  },
  {
   "metadata": {
    "ExecuteTime": {
     "end_time": "2025-03-11T16:25:58.663280Z",
     "start_time": "2025-03-11T16:24:16.492870Z"
    }
   },
   "cell_type": "code",
   "source": [
    "import turtle\n",
    "\n",
    "# 定义绘制五角星的函数\n",
    "def draw_five_star(x, y, length, angle):\n",
    "    turtle.penup()\n",
    "    turtle.goto(x, y)\n",
    "    turtle.setheading(angle)  \n",
    "    turtle.pendown()\n",
    "    turtle.begin_fill()\n",
    "    for _ in range(5):\n",
    "        turtle.forward(length)\n",
    "        turtle.right(144)  \n",
    "    turtle.end_fill()\n",
    "\n",
    "screen = turtle.Screen()\n",
    "screen.setup(600, 400)\n",
    "\n",
    "turtle.title(\"五星红旗\")\n",
    "\n",
    "# 绘制红色背景\n",
    "turtle.penup()\n",
    "turtle.goto(-300, 200)\n",
    "turtle.pendown()\n",
    "turtle.color(\"red\")\n",
    "turtle.begin_fill()\n",
    "for _ in range(2):\n",
    "    turtle.forward(480)#棋子长\n",
    "    turtle.right(90)\n",
    "    turtle.forward(320)#棋子宽\n",
    "    turtle.right(90)\n",
    "turtle.end_fill()\n",
    "\n",
    "turtle.color(\"yellow\")\n",
    "\n",
    "draw_five_star(-170, 145, 50, 0)\n",
    "\n",
    "draw_five_star(-100, 180, 20, 305)  # 第1颗小星\n",
    "draw_five_star(-85, 150, 20, 30)    # 第2颗小星\n",
    "draw_five_star(-85, 120, 20, 30)    # 第3颗小星\n",
    "draw_five_star(-100, 100, 20, 300)  # 第4颗小星\n",
    "\n",
    "turtle.hideturtle()\n",
    "turtle.done()"
   ],
   "id": "da6807fdae45ebb2",
   "execution_count": 3,
   "outputs": []
  },
  {
   "metadata": {
    "ExecuteTime": {
     "end_time": "2025-03-12T07:05:43.472080Z",
     "start_time": "2025-03-12T07:05:43.376823Z"
    }
   },
   "cell_type": "code",
   "source": [
    "import torch\n",
    "# 创建一维张量\n",
    "tensor_1d = torch.tensor([1, 2, 3, 4])\n",
    "print(\"一维张量：\", tensor_1d)\n",
    "print(\"形状：\", tensor_1d.shape)\n",
    "print(\"数据类型：\", tensor_1d.dtype)\n",
    "\n",
    "# 创建二维张量\n",
    "tensor_2d = torch.tensor([[1, 2], [3, 4]])\n",
    "print(\"\\n二维张量：\", tensor_2d)\n",
    "print(\"形状：\", tensor_2d.shape)\n",
    "print(\"数据类型：\", tensor_2d.dtype)\n",
    "\n",
    "# 创建三维张量\n",
    "tensor_3d = torch.tensor([[[1, 2], [3, 4]], [[5, 6], [7, 8]]])\n",
    "print(\"\\n三维张量：\", tensor_3d)\n",
    "print(\"形状：\", tensor_3d.shape)\n",
    "print(\"数据类型：\", tensor_3d.dtype)"
   ],
   "id": "69d9f213e3e2ae6f",
   "execution_count": 5,
   "outputs": []
  },
  {
   "metadata": {
    "ExecuteTime": {
     "end_time": "2025-03-12T07:06:42.715152Z",
     "start_time": "2025-03-12T07:06:42.600371Z"
    }
   },
   "cell_type": "code",
   "source": [
    "tensor_a = torch.tensor([1, 2, 3])\n",
    "tensor_b = torch.tensor([4, 5, 6])\n",
    "\n",
    "# 加法\n",
    "tensor_add = tensor_a + tensor_b\n",
    "print(\"\\n加法结果：\", tensor_add)\n",
    "\n",
    "# 减法\n",
    "tensor_sub = tensor_a - tensor_b\n",
    "print(\"减法结果：\", tensor_sub)\n",
    "\n",
    "# 乘法\n",
    "tensor_mul = tensor_a * tensor_b\n",
    "print(\"乘法结果：\", tensor_mul)\n",
    "\n",
    "# 除法\n",
    "tensor_div = tensor_a / tensor_b\n",
    "print(\"除法结果：\", tensor_div)\n"
   ],
   "id": "cff5957df4803efe",
   "execution_count": 6,
   "outputs": []
  },
  {
   "metadata": {
    "ExecuteTime": {
     "end_time": "2025-03-12T07:07:14.011145Z",
     "start_time": "2025-03-12T07:07:13.996940Z"
    }
   },
   "cell_type": "code",
   "source": [
    "tensor_original = torch.tensor([[1, 2, 3], [4, 5, 6]])\n",
    "print(\"\\n原始张量：\", tensor_original)\n",
    "print(\"形状：\", tensor_original.shape)\n",
    "\n",
    "# 改变形状为 (6,)\n",
    "tensor_reshaped = tensor_original.view(-1)\n",
    "print(\"\\n改变形状后的张量：\", tensor_reshaped)\n",
    "print(\"形状：\", tensor_reshaped.shape)\n",
    "\n",
    "# 改变形状为 (3, 2)\n",
    "tensor_reshaped_3x2 = tensor_original.view(3, 2)\n",
    "print(\"\\n改变形状后的张量：\", tensor_reshaped_3x2)\n",
    "print(\"形状：\", tensor_reshaped_3x2.shape)"
   ],
   "id": "f1e17ea1413a25f2",
   "execution_count": 7,
   "outputs": []
  },
  {
   "metadata": {
    "ExecuteTime": {
     "end_time": "2025-03-12T08:14:41.990620Z",
     "start_time": "2025-03-12T08:14:41.366086Z"
    }
   },
   "cell_type": "code",
   "source": [
    "from PIL import Image\n",
    "from torchvision import transforms\n",
    "import matplotlib.pyplot as plt\n",
    "image_path = \"diban.jpg\"  \n",
    "image = Image.open(image_path)\n",
    "print(\"\\n原始图像：\")\n",
    "plt.imshow(image)\n",
    "plt.axis('off') \n",
    "plt.show()"
   ],
   "id": "5d619450f4406e00",
   "execution_count": 19,
   "outputs": []
  },
  {
   "metadata": {
    "ExecuteTime": {
     "end_time": "2025-03-12T07:28:16.594361Z",
     "start_time": "2025-03-12T07:28:16.458967Z"
    }
   },
   "cell_type": "code",
   "source": [
    "\n",
    "image_tensor = transforms.ToTensor()(image)\n",
    "print(\"\\n图像张量：\")\n",
    "print(image_tensor)\n",
    "print(\"形状：\", image_tensor.shape)\n",
    "print(\"数据类型：\", image_tensor.dtype)\n"
   ],
   "id": "f8c97e4988ccb595",
   "execution_count": 15,
   "outputs": []
  },
  {
   "metadata": {
    "ExecuteTime": {
     "end_time": "2025-03-12T08:22:33.730017Z",
     "start_time": "2025-03-12T08:22:33.544203Z"
    }
   },
   "cell_type": "code",
   "source": [
    "# 任务2.2：调整图像大小\n",
    "# 定义调整大小的转换\n",
    "import matplotlib.pyplot as plt\n",
    "resize_transform = transforms.Resize((256, 256))\n",
    "resized_image = resize_transform(image)\n",
    "print(\"\\n调整大小后的图像：\")\n",
    "\n",
    "plt.imshow(resized_image)\n",
    "plt.axis('off') \n",
    "plt.show()"
   ],
   "id": "5c290e493d0456e3",
   "execution_count": 20,
   "outputs": []
  },
  {
   "metadata": {
    "ExecuteTime": {
     "end_time": "2025-03-12T08:23:17.353096Z",
     "start_time": "2025-03-12T08:23:17.291522Z"
    }
   },
   "cell_type": "code",
   "source": [
    "# 任务2.3：对图像进行归一化\n",
    "# 定义归一化转换\n",
    "normalize_transform = transforms.Normalize(mean=[0.5, 0.5, 0.5], std=[0.5, 0.5, 0.5])\n",
    "normalized_image_tensor = normalize_transform(image_tensor)\n",
    "print(\"\\n归一化后的图像张量：\")\n",
    "print(normalized_image_tensor)"
   ],
   "id": "6a91f76131f82806",
   "execution_count": 21,
   "outputs": []
  },
  {
   "metadata": {
    "ExecuteTime": {
     "end_time": "2025-03-12T07:32:02.791933Z",
     "start_time": "2025-03-12T07:32:02.550070Z"
    }
   },
   "cell_type": "code",
   "source": [
    "\n",
    "\n",
    "\n",
    "\n",
    "# 任务2.4：组合多个转换操作\n",
    "# 定义组合转换\n",
    "transform_pipeline = transforms.Compose([\n",
    "    transforms.Resize((256, 256)),  # 调整大小\n",
    "    transforms.ToTensor(),          # 转换为张量\n",
    "    transforms.Normalize(mean=[0.5, 0.5, 0.5], std=[0.5, 0.5, 0.5])  # 归一化\n",
    "])\n",
    "\n",
    "processed_image_tensor = transform_pipeline(image)\n",
    "print(\"\\n组合转换后的图像张量：\")\n",
    "print(processed_image_tensor)\n",
    "print(\"形状：\", processed_image_tensor.shape)\n",
    "print(\"数据类型：\", processed_image_tensor.dtype)"
   ],
   "id": "9daca148ed15f5a2",
   "execution_count": 18,
   "outputs": []
  },
  {
   "metadata": {
    "ExecuteTime": {
     "end_time": "2025-03-12T10:43:07.905920Z",
     "start_time": "2025-03-12T10:43:07.831365Z"
    }
   },
   "cell_type": "code",
   "source": [
    "#2212080182-韩宁\n",
    "def FMM(dict, sentence):\n",
    "    fmmresult = []\n",
    "    # 词典中最长词长度\n",
    "    max_len = max([len(item) for item in dict])\n",
    "    start = 0\n",
    "    # FMM为正向，start从初始位置开始，指向结尾即为结束\n",
    "    while start != len(sentence):\n",
    "        # index的初始值为start的索引+词典中元素的最大长度或句子末尾\n",
    "        index = start + max_len\n",
    "        if index > len(sentence):\n",
    "            index = len(sentence)\n",
    "        for i in range(max_len):\n",
    "            # 当分词在字典中时或分到最后一个字时，将其加入到结果列表中\n",
    "            if (sentence[start:index] in dict) or (len(sentence[start:index]) == 1):\n",
    "                # print(sentence[start:index], end='/')\n",
    "                fmmresult.append(sentence[start:index])\n",
    "                # 分出一个词，start设置到index处\n",
    "                start = index\n",
    "                break\n",
    "            # 正向时index每次向句尾挪一位\n",
    "            index += -1\n",
    "    return fmmresult"
   ],
   "id": "7bbcff5a2bfe13cf",
   "execution_count": 22,
   "outputs": []
  },
  {
   "metadata": {
    "ExecuteTime": {
     "end_time": "2025-03-12T10:43:10.127659Z",
     "start_time": "2025-03-12T10:43:10.112659Z"
    }
   },
   "cell_type": "code",
   "source": [
    "#2212080182-韩宁\n",
    "def RMM(dict, sentence):\n",
    "    rmmresult = []\n",
    "    # 词典中最长词长度\n",
    "    max_len = max([len(item) for item in dict])\n",
    "    start = len(sentence)\n",
    "    # RMM为逆向，start从末尾位置开始，指向开头位置即为结束\n",
    "    while start != 0:\n",
    "        # 逆向时index的初始值为start的索引-词典中元素的最大长度或句子开头\n",
    "        index = start - max_len\n",
    "        if index < 0:\n",
    "            index = 0\n",
    "        for i in range(max_len):\n",
    "            # 当分词在字典中时或分到最后一个字时，将其加入到结果列表中\n",
    "            if (sentence[index:start] in dict) or (len(sentence[index:start]) == 1):\n",
    "                # print(sentence[index:start], end='/')\n",
    "                rmmresult.insert(0, sentence[index:start])\n",
    "                # 分出一个词，start设置到index处\n",
    "                start = index\n",
    "                break\n",
    "            # 逆向时index每次向句头挪一位\n",
    "            index += 1\n",
    "    return rmmresult"
   ],
   "id": "665bcf2c97232d23",
   "execution_count": 23,
   "outputs": []
  },
  {
   "metadata": {
    "ExecuteTime": {
     "end_time": "2025-03-12T10:43:13.236795Z",
     "start_time": "2025-03-12T10:43:13.225874Z"
    }
   },
   "cell_type": "code",
   "source": [
    "#2212080182-韩宁\n",
    "def BM(dict, sentence):\n",
    "    # res1 与 res2 为FMM与RMM结果\n",
    "    res1 = FMM(dict, sentence)\n",
    "    res2 = RMM(dict, sentence)\n",
    "    if len(res1) == len(res2):\n",
    "        # FMM与RMM的结果相同时，取任意一个\n",
    "        if res1 == res2:\n",
    "            return res1\n",
    "        else:\n",
    "            # res1_sn 和 res2_sn 为两个分词结果的单字数量，返回单字较少的\n",
    "            res1_sn = len([i for i in res1 if len(i) == 1])\n",
    "            res2_sn = len([i for i in res2 if len(i) == 1])\n",
    "            return res1 if res1_sn < res2_sn else res2\n",
    "    else:\n",
    "        # 分词数不同则取分出词较少的\n",
    "        return res1 if len(res1) < len(res2) else res2"
   ],
   "id": "92bec6f97c749dc",
   "execution_count": 24,
   "outputs": []
  },
  {
   "metadata": {
    "ExecuteTime": {
     "end_time": "2025-03-13T00:09:23.886419Z",
     "start_time": "2025-03-13T00:09:23.872157Z"
    }
   },
   "cell_type": "code",
   "source": [
    "def load_dict(file_path):\n",
    "    \"\"\"\n",
    "    加载词典文件，返回词典集合和最大单词长度\n",
    "    :param file_path: 词典文件路径\n",
    "    :return: word_dict（词典集合），max_word_length（最大单词长度）\n",
    "    \"\"\"\n",
    "    word_dict = set()  # 使用集合存储词典中的词语，便于快速查找\n",
    "    max_word_length = 0\n",
    "    with open(file_path, 'r', encoding='utf-8') as file:\n",
    "        for line in file:\n",
    "            line = line.strip()\n",
    "            if line:\n",
    "                # 取每一行的第一个元素作为单词\n",
    "                word = line.split()[0]\n",
    "                word_dict.add(word)\n",
    "                # 更新最大单词长度\n",
    "                if len(word) > max_word_length:\n",
    "                    max_word_length = len(word)\n",
    "    return word_dict, max_word_length\n"
   ],
   "id": "ee97faa5bb6f90eb",
   "execution_count": 27,
   "outputs": []
  },
  {
   "metadata": {
    "ExecuteTime": {
     "end_time": "2025-03-13T00:11:03.327335Z",
     "start_time": "2025-03-13T00:11:02.896773Z"
    }
   },
   "cell_type": "code",
   "source": [
    "word_list, max_length = load_dict('dict.txt')\n",
    "print(\"2212080182-韩宁\")\n",
    "print(f\"词典中的词语数量: {len(word_list)}\")\n",
    "print(f\"词典中最大单词的长度: {max_length}\")\n"
   ],
   "id": "719b2b851c51bb60",
   "execution_count": 29,
   "outputs": []
  },
  {
   "metadata": {},
   "cell_type": "code",
   "execution_count": null,
   "source": "",
   "id": "433182b76032f09a",
   "outputs": []
  },
  {
   "metadata": {},
   "cell_type": "code",
   "execution_count": null,
   "source": [
    "dict = ['我', '在', '燕山大学', '读书', '专业', '是', '软件', '工程', '软件工程']\n",
    "sentence = '我在燕山大学读书，专业是软件工程'\n",
    "print(\"the results of FMM :\\n\", FMM(dict, sentence), end=\"\\n\")\n",
    "print(\"the results of RMM :\\n\", RMM(dict, sentence), end=\"\\n\")\n",
    "print(\"the results of BM :\\n\", BM(dict, sentence),end=\"\\n\")\n"
   ],
   "id": "1d9016cf22e45bd9",
   "outputs": []
  },
  {
   "metadata": {
    "ExecuteTime": {
     "end_time": "2025-03-13T00:18:58.275022Z",
     "start_time": "2025-03-13T00:18:57.420010Z"
    }
   },
   "cell_type": "code",
   "source": [
    "text=\"在当下经济环境中，政府补贴是刺激消费、推动经济发展的重要手段。近年来，河南省出台多项补贴政策，涉及消费、就业、创业等多个领域。国家对地方经济发展的政策支持也为河南的补贴举措提供了有力保障，在此背景下，研究河南省居民对补贴的认知及消费意愿具有重要现实意义。\"\n",
    "print(\"the results of FMM :\\n\", FMM(word_list, text), end=\"\\n\")\n",
    "print(\"the results of RMM :\\n\", RMM(word_list, text), end=\"\\n\")\n",
    "print(\"the results of BM :\\n\", BM(word_list, text),end=\"\\n\")"
   ],
   "id": "52502a1aac93f594",
   "execution_count": 30,
   "outputs": []
  },
  {
   "metadata": {
    "ExecuteTime": {
     "end_time": "2025-03-13T00:42:57.003357Z",
     "start_time": "2025-03-13T00:42:56.566206Z"
    }
   },
   "cell_type": "code",
   "source": [
    "text='研究生命起源'\n",
    "print(\"the results of FMM :\\n\", FMM(word_list, text), end=\"\\n\")\n",
    "print(\"the results of RMM :\\n\", RMM(word_list, text), end=\"\\n\")\n",
    "print(\"the results of BM :\\n\", BM(word_list, text),end=\"\\n\")"
   ],
   "id": "778d78ed14dc0b59",
   "execution_count": 34,
   "outputs": []
  },
  {
   "metadata": {
    "ExecuteTime": {
     "end_time": "2025-03-13T00:20:08.437514Z",
     "start_time": "2025-03-13T00:20:08.010662Z"
    }
   },
   "cell_type": "code",
   "source": "print(FMM(word_list, text)==RMM(word_list, text)==BM(word_list, text))",
   "id": "8d549c692e873fe3",
   "execution_count": 31,
   "outputs": []
  },
  {
   "metadata": {},
   "cell_type": "code",
   "execution_count": null,
   "source": "",
   "id": "de595ba212c3f132",
   "outputs": []
  },
  {
   "metadata": {
    "ExecuteTime": {
     "end_time": "2025-04-08T03:54:37.899704Z",
     "start_time": "2025-04-08T03:54:37.895558Z"
    }
   },
   "cell_type": "code",
   "source": [
    "import pandas as pd\n",
    "import numpy as np"
   ],
   "id": "d8db1be845cce003",
   "execution_count": 11,
   "outputs": []
  },
  {
   "metadata": {
    "ExecuteTime": {
     "end_time": "2025-04-08T03:54:39.822600Z",
     "start_time": "2025-04-08T03:54:39.788593Z"
    }
   },
   "cell_type": "code",
   "source": [
    "fdata = pd.read_excel('tips_mod(1)(1).xls')\n",
    "fdata.head()  "
   ],
   "id": "49e245ffd330ca5c",
   "execution_count": 12,
   "outputs": []
  },
  {
   "metadata": {},
   "cell_type": "code",
   "execution_count": null,
   "source": "",
   "id": "5e8158bed4be643c",
   "outputs": []
  },
  {
   "metadata": {
    "ExecuteTime": {
     "end_time": "2025-04-08T03:54:43.037438Z",
     "start_time": "2025-04-08T03:54:43.005431Z"
    }
   },
   "cell_type": "code",
   "source": [
    "print(fdata.shape)  \n",
    "fdata.describe()    "
   ],
   "id": "cbd66bbc071279d6",
   "execution_count": 13,
   "outputs": []
  },
  {
   "metadata": {
    "ExecuteTime": {
     "end_time": "2025-04-08T03:54:48.453847Z",
     "start_time": "2025-04-08T03:54:48.447357Z"
    }
   },
   "cell_type": "code",
   "source": "fdata['聚餐时间段'].unique()  ",
   "id": "b21dc445fdb9db9f",
   "execution_count": 14,
   "outputs": []
  },
  {
   "metadata": {
    "ExecuteTime": {
     "end_time": "2025-04-08T03:54:51.435682Z",
     "start_time": "2025-04-08T03:54:51.425670Z"
    }
   },
   "cell_type": "code",
   "source": [
    "\n",
    "fdata.loc[fdata['聚餐时间段'] == 'Diner', 'time'] = 'Dinner'\n",
    "fdata.loc[fdata['聚餐时间段'] == 'Dier', 'time'] = 'Dinner'\n",
    "fdata['聚餐时间段'].unique()  "
   ],
   "id": "3ff44770e4032569",
   "execution_count": 15,
   "outputs": []
  },
  {
   "metadata": {
    "ExecuteTime": {
     "end_time": "2025-04-08T03:54:55.591590Z",
     "start_time": "2025-04-08T03:54:55.584144Z"
    }
   },
   "cell_type": "code",
   "source": "fdata.isnull().sum()",
   "id": "ede6413f3d1cdaea",
   "execution_count": 16,
   "outputs": []
  },
  {
   "metadata": {
    "ExecuteTime": {
     "end_time": "2025-04-08T03:51:54.950154Z",
     "start_time": "2025-04-08T03:51:54.934578Z"
    }
   },
   "cell_type": "code",
   "source": [
    "\n",
    "fdata.dropna(thresh=6, inplace=True)\n",
    "fdata.isnull().sum() "
   ],
   "id": "77e2b6d05e527501",
   "execution_count": 8,
   "outputs": []
  },
  {
   "metadata": {
    "ExecuteTime": {
     "end_time": "2025-04-08T03:52:52.149799Z",
     "start_time": "2025-04-08T03:52:52.133945Z"
    }
   },
   "cell_type": "code",
   "source": [
    "\n",
    "fdata.dropna(subset=['性别', '聚餐时间段'], inplace=True)\n",
    "fdata.isnull().sum()  "
   ],
   "id": "2b8a6652081afa22",
   "execution_count": 9,
   "outputs": []
  },
  {
   "metadata": {
    "ExecuteTime": {
     "end_time": "2025-04-08T03:55:31.507551Z",
     "start_time": "2025-04-08T03:55:31.489981Z"
    }
   },
   "cell_type": "code",
   "source": [
    "\n",
    "numeric_cols = fdata.select_dtypes(include=np.number).columns.tolist()\n",
    "fdata[numeric_cols] = fdata[numeric_cols].fillna(fdata[numeric_cols].mean())\n",
    "fdata.isnull().sum()"
   ],
   "id": "57997aae241011f",
   "execution_count": 17,
   "outputs": []
  },
  {
   "metadata": {
    "ExecuteTime": {
     "end_time": "2025-04-08T03:58:37.528229Z",
     "start_time": "2025-04-08T03:58:37.467475Z"
    }
   },
   "cell_type": "code",
   "source": [
    "df=pd.read_csv('detail(1).csv', encoding='gbk')\n",
    "df.head()"
   ],
   "id": "db9cf031c8766952",
   "execution_count": 19,
   "outputs": []
  },
  {
   "metadata": {
    "ExecuteTime": {
     "end_time": "2025-04-08T03:59:11.816434Z",
     "start_time": "2025-04-08T03:59:11.805472Z"
    }
   },
   "cell_type": "code",
   "source": [
    "\n",
    "print(df.head().values)\n",
    "print(df.index)\n",
    "print(df.columns.tolist())\n",
    "print(df.dtypes)\n",
    "print(df.size)\n",
    "print(df.ndim)\n",
    "print(df.shape)"
   ],
   "id": "d3b71f734b7beaa9",
   "execution_count": 20,
   "outputs": []
  },
  {
   "metadata": {
    "ExecuteTime": {
     "end_time": "2025-04-08T03:59:50.875520Z",
     "start_time": "2025-04-08T03:59:50.853344Z"
    }
   },
   "cell_type": "code",
   "source": [
    "\n",
    "print(df.head(10))\n",
    "print(df.tail(10))"
   ],
   "id": "8a197c7139831301",
   "execution_count": 21,
   "outputs": []
  },
  {
   "metadata": {
    "ExecuteTime": {
     "end_time": "2025-04-08T04:00:06.695752Z",
     "start_time": "2025-04-08T04:00:06.685212Z"
    }
   },
   "cell_type": "code",
   "source": [
    "\n",
    "print(df.loc[1:5, ['order_id', 'dishes_name']])  "
   ],
   "id": "2bfb056e8d6001e7",
   "execution_count": 22,
   "outputs": []
  },
  {
   "metadata": {
    "ExecuteTime": {
     "end_time": "2025-04-08T04:00:21.110672Z",
     "start_time": "2025-04-08T04:00:21.101243Z"
    }
   },
   "cell_type": "code",
   "source": [
    "\n",
    "print(df[df['order_id'] == 458].iloc[:, [0, 4]]) "
   ],
   "id": "e7c4f73a3db375ef",
   "execution_count": 23,
   "outputs": []
  },
  {
   "metadata": {
    "ExecuteTime": {
     "end_time": "2025-04-08T04:00:36.422495Z",
     "start_time": "2025-04-08T04:00:36.410498Z"
    }
   },
   "cell_type": "code",
   "source": [
    "\n",
    "df['payment'] = df['amounts'] * df['counts']\n",
    "print(df[['order_id', 'amounts', 'counts', 'payment']].head())"
   ],
   "id": "989a120509f05fac",
   "execution_count": 24,
   "outputs": []
  },
  {
   "metadata": {
    "ExecuteTime": {
     "end_time": "2025-04-08T04:00:46.588384Z",
     "start_time": "2025-04-08T04:00:46.565397Z"
    }
   },
   "cell_type": "code",
   "source": [
    "\n",
    "print(df[['amounts', 'counts']].describe())"
   ],
   "id": "50a85f692856efe4",
   "execution_count": 25,
   "outputs": []
  },
  {
   "metadata": {
    "ExecuteTime": {
     "end_time": "2025-04-08T04:00:56.356497Z",
     "start_time": "2025-04-08T04:00:56.345210Z"
    }
   },
   "cell_type": "code",
   "source": [
    "\n",
    "print(df['dishes_name'].value_counts())"
   ],
   "id": "6b0bd23ce4654fe3",
   "execution_count": 26,
   "outputs": []
  },
  {
   "metadata": {
    "ExecuteTime": {
     "end_time": "2025-04-08T04:01:06.739432Z",
     "start_time": "2025-04-08T04:01:06.703029Z"
    }
   },
   "cell_type": "code",
   "source": [
    "\n",
    "grouped = df.groupby('order_id')[['counts', 'amounts']]\n",
    "print(grouped.agg(['mean', 'std', 'median']).head(5))"
   ],
   "id": "d51cdc47c447b209",
   "execution_count": 27,
   "outputs": []
  },
  {
   "metadata": {
    "ExecuteTime": {
     "end_time": "2025-04-08T04:01:17.947075Z",
     "start_time": "2025-04-08T04:01:17.938099Z"
    }
   },
   "cell_type": "code",
   "source": [
    "\n",
    "print(\"销量总和:\", df['counts'].sum())\n",
    "print(\"售价总和:\", df['amounts'].sum())\n",
    "print(\"售价均值:\", df['amounts'].mean())"
   ],
   "id": "b983b481e3c949db",
   "execution_count": 28,
   "outputs": []
  },
  {
   "metadata": {
    "ExecuteTime": {
     "end_time": "2025-04-08T04:01:32.113105Z",
     "start_time": "2025-04-08T04:01:32.070125Z"
    }
   },
   "cell_type": "code",
   "source": [
    "\n",
    "pivot_table = pd.pivot_table(df, values='counts', index='order_id', columns='dishes_name', aggfunc='sum')\n",
    "print(pivot_table.iloc[:5, :5])  "
   ],
   "id": "76fdbdfb233c7726",
   "execution_count": 29,
   "outputs": []
  }
 ],
 "metadata": {
  "kernelspec": {
   "display_name": "Python 3",
   "language": "python",
   "name": "python3"
  },
  "language_info": {
   "codemirror_mode": {
    "name": "ipython",
    "version": 2
   },
   "file_extension": ".py",
   "mimetype": "text/x-python",
   "name": "python",
   "nbconvert_exporter": "python",
   "pygments_lexer": "ipython2",
   "version": "2.7.6"
  }
 },
 "nbformat": 4,
 "nbformat_minor": 5
}
