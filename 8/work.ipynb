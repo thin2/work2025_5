{
 "cells": [
  {
   "cell_type": "code",
   "id": "initial_id",
   "metadata": {
    "collapsed": true,
    "ExecuteTime": {
     "end_time": "2025-04-15T02:13:37.345817Z",
     "start_time": "2025-04-15T02:13:37.161912Z"
    }
   },
   "source": [
    "import pandas as pd\n",
    "import numpy as np\n",
    "from pandas import Series,DataFrame\n",
    "import matplotlib.pyplot as plt\n",
    "plt.rcParams['font.sans-serif'] = ['SimHei'] #用来正常显示中文标签\n",
    "plt.rcParams['axes.unicode_minus']=False #用来正常显示负号\n",
    "%matplotlib inline\n",
    "starbucks = pd.read_csv(\"directory.csv\") # 读取数据文件\n",
    "starbucks.head() # 查看文件头，是否能正确显示\n"
   ],
   "execution_count": 14,
   "outputs": []
  },
  {
   "metadata": {
    "ExecuteTime": {
     "end_time": "2025-04-15T02:13:37.369729Z",
     "start_time": "2025-04-15T02:13:37.349828Z"
    }
   },
   "cell_type": "code",
   "source": "starbucks.isnull().sum()",
   "id": "58ae678319ff755a",
   "execution_count": 15,
   "outputs": []
  },
  {
   "metadata": {
    "ExecuteTime": {
     "end_time": "2025-04-15T02:13:37.406966Z",
     "start_time": "2025-04-15T02:13:37.371737Z"
    }
   },
   "cell_type": "code",
   "source": [
    "star = starbucks.dropna(how='any',subset=['City'])\n",
    "star.isnull().sum()\n"
   ],
   "id": "7458e8a40da4ce1b",
   "execution_count": 16,
   "outputs": []
  },
  {
   "metadata": {
    "ExecuteTime": {
     "end_time": "2025-04-15T02:13:37.433208Z",
     "start_time": "2025-04-15T02:13:37.412983Z"
    }
   },
   "cell_type": "code",
   "source": [
    "print(\"星巴克旗下品牌有：\\n\",starbucks.Brand.value_counts())\n",
    "coffee = starbucks[starbucks.Brand=='Starbucks']\n",
    "\n",
    "print(\"-------------------------\")\n",
    "print(coffee.shape)\n",
    "print(f'There\\'re {coffee.shape[0]} Starbucks cafeteria worldwide!')\n"
   ],
   "id": "8108e8d8a80a5bb7",
   "execution_count": 17,
   "outputs": []
  },
  {
   "metadata": {
    "ExecuteTime": {
     "end_time": "2025-04-15T02:13:37.454001Z",
     "start_time": "2025-04-15T02:13:37.435220Z"
    }
   },
   "cell_type": "code",
   "source": [
    "df = starbucks.groupby([\"Country\"]).size()\n",
    "print(\"全世界一共多少个国家或地区开设了星巴克门店:\",df.size)\n",
    "df1 = df.sort_values( ascending=True)\n",
    "print(\"排名前10的国家或地区：\\n\",df1.tail(10))\n"
   ],
   "id": "55cca9a9d353f560",
   "execution_count": 18,
   "outputs": []
  },
  {
   "metadata": {
    "ExecuteTime": {
     "end_time": "2025-04-15T02:13:37.466533Z",
     "start_time": "2025-04-15T02:13:37.456014Z"
    }
   },
   "cell_type": "code",
   "source": "print(coffee.Country.nunique())",
   "id": "a04b505354ef81db",
   "execution_count": 19,
   "outputs": []
  },
  {
   "metadata": {
    "ExecuteTime": {
     "end_time": "2025-04-15T02:13:37.483548Z",
     "start_time": "2025-04-15T02:13:37.470546Z"
    }
   },
   "cell_type": "code",
   "source": "print(coffee.City.nunique())",
   "id": "6e5950ca3d324574",
   "execution_count": 20,
   "outputs": []
  },
  {
   "metadata": {
    "ExecuteTime": {
     "end_time": "2025-04-15T02:13:37.928697Z",
     "start_time": "2025-04-15T02:13:37.487702Z"
    }
   },
   "cell_type": "code",
   "source": [
    "plt.rcParams['font.size'] = 15\n",
    "plt.rcParams['font.family'] = 'SimHei'\n",
    "plt.figure(1,figsize=(6,4))\n",
    "count_starbucks =coffee.Country.value_counts()\n",
    "plt.hist(np.log10(count_starbucks.values), bins=\"auto\", color='skyblue', edgecolor='black')\n",
    "plt.xlabel('店数数量级(10^x)')\n",
    "plt.ylabel('国家或地区数')\n",
    "plt.title('Starbucks门店分布直方图')\n",
    "plt.show()\n",
    "\n",
    "count_top10 = count_starbucks.head(10)\n",
    "print(count_top10)\n",
    "count_top10.plot(kind='pie',rot=0)\n",
    "plt.title('星巴克门店数排名前10的国家或地区')\n",
    "plt.ylabel('Store Counts')\n",
    "plt.xlabel('Countries/Area')\n"
   ],
   "id": "7ca8fdbd6f826b1a",
   "execution_count": 21,
   "outputs": []
  },
  {
   "metadata": {
    "ExecuteTime": {
     "end_time": "2025-04-15T02:13:38.264501Z",
     "start_time": "2025-04-15T02:13:37.930706Z"
    }
   },
   "cell_type": "code",
   "source": [
    "star = starbucks.dropna(how='any',subset=['City'])\n",
    "star.isnull().sum()\n",
    "count_starbucks_city = star.City.value_counts()\n",
    "print(\"全世界星巴克门店数量排名前10的城市：\\n\",count_starbucks_city.head(10))\n",
    "plt.figure(1,figsize=(8,6))\n",
    "count_starbucks_city =star.City.value_counts()\n",
    "city_top10 = count_starbucks_city.head(10)\n",
    "city_top10.plot(kind='bar',rot=60)\n",
    "plt.title('拥有星巴克门店最多的10个城市')\n",
    "plt.ylabel('Store Counts')\n",
    "plt.xlabel('Cities')\n"
   ],
   "id": "74032519cc84f0d5",
   "execution_count": 22,
   "outputs": []
  },
  {
   "metadata": {
    "ExecuteTime": {
     "end_time": "2025-04-15T02:13:38.568198Z",
     "start_time": "2025-04-15T02:13:38.267512Z"
    }
   },
   "cell_type": "code",
   "source": [
    "star = starbucks.dropna(how='any',subset=['City'])\n",
    "star.isnull().sum()\n",
    "count_starbucks_city = star.City.value_counts()\n",
    "print(\"全世界星巴克门店数量排名后5的城市：\\n\",count_starbucks_city.tail(5))\n",
    "plt.figure(1,figsize=(8,6))\n",
    "count_starbucks_city =star.City.value_counts()\n",
    "city_top10 = count_starbucks_city.tail(5)\n",
    "city_top10.plot(kind='bar',rot=60)\n",
    "plt.title('拥有星巴克门店最少的5个城市')\n",
    "plt.ylabel('Store Counts')\n",
    "plt.xlabel('Cities')\n"
   ],
   "id": "ffcb873b1e29d4b1",
   "execution_count": 23,
   "outputs": []
  },
  {
   "metadata": {
    "ExecuteTime": {
     "end_time": "2025-04-15T02:13:38.590215Z",
     "start_time": "2025-04-15T02:13:38.570216Z"
    }
   },
   "cell_type": "code",
   "source": [
    "#选择中国的数据\n",
    "df = star[star[\"Country\"]==\"CN\"]\n",
    "df1 = df.copy()\n",
    "df1 = df1.groupby([\"City\"]).size().sort_values( ascending=False)\n",
    "df1.head(10)\n"
   ],
   "id": "71ad121b6318bbc0",
   "execution_count": 24,
   "outputs": []
  },
  {
   "metadata": {
    "ExecuteTime": {
     "end_time": "2025-04-15T02:13:38.621001Z",
     "start_time": "2025-04-15T02:13:38.593701Z"
    }
   },
   "cell_type": "code",
   "source": [
    "#选择中国的数据\n",
    "df = star[star[\"Country\"]==\"US\"]\n",
    "df1 = df.copy()\n",
    "\n",
    "df1 = df1.groupby([\"City\"]).size().sort_values( ascending=False)\n",
    "df1.tail(3)\n"
   ],
   "id": "3965d5c14073c376",
   "execution_count": 25,
   "outputs": []
  },
  {
   "metadata": {
    "ExecuteTime": {
     "end_time": "2025-04-15T02:13:38.755955Z",
     "start_time": "2025-04-15T02:13:38.624013Z"
    }
   },
   "cell_type": "code",
   "source": [
    "plt.figure(1,figsize=(4,3))\n",
    "ownership = star['Ownership Type'].value_counts()\n",
    "plt.title('星巴克门店所有权类型')\n",
    "ownership.plot(kind='pie')\n"
   ],
   "id": "8f2c862ff7808e47",
   "execution_count": 26,
   "outputs": []
  }
 ],
 "metadata": {
  "kernelspec": {
   "display_name": "Python 3",
   "language": "python",
   "name": "python3"
  },
  "language_info": {
   "codemirror_mode": {
    "name": "ipython",
    "version": 2
   },
   "file_extension": ".py",
   "mimetype": "text/x-python",
   "name": "python",
   "nbconvert_exporter": "python",
   "pygments_lexer": "ipython2",
   "version": "2.7.6"
  }
 },
 "nbformat": 4,
 "nbformat_minor": 5
}
